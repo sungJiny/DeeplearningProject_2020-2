{
 "cells": [
  {
   "cell_type": "markdown",
   "metadata": {
    "id": "hHhEg22DHPdk"
   },
   "source": [
    "# Trajectory 사람 이동 예측\n",
    "trajectory 데이터에서 총 180명 정도의 데이터가 존재 <br>\n",
    "개인 별로 어떻게 움직일지를 lstm, gru (파라미터가 좀 작을 때 사용하는 모델),transfomer 모형을 활용해서 학습해볼 예정 <br>\n",
    "## 표본 선정 기준<br>\n",
    "1. 수집 일 수가 많을 것 <br>\n",
    "2. 일정하게 데이터가 존재할 것 <br>\n",
    "결과적으로 총 6명을 학습 할 예정이다. <br>"
   ]
  },
  {
   "cell_type": "code",
   "execution_count": 43,
   "metadata": {
    "colab": {
     "base_uri": "https://localhost:8080/"
    },
    "id": "w2by2nymIgSU",
    "outputId": "8610d2d0-de4a-4c56-f02b-1595bca8f352"
   },
   "outputs": [
    {
     "name": "stdout",
     "output_type": "stream",
     "text": [
      "Drive already mounted at /content/drive; to attempt to forcibly remount, call drive.mount(\"/content/drive\", force_remount=True).\n"
     ]
    }
   ],
   "source": [
    "from google.colab import drive\n",
    "drive.mount('/content/drive')"
   ]
  },
  {
   "cell_type": "code",
   "execution_count": 2,
   "metadata": {
    "colab": {
     "base_uri": "https://localhost:8080/"
    },
    "id": "ga6JVClMIjLO",
    "outputId": "94cb1b26-a038-4320-f988-51389ac4833d"
   },
   "outputs": [
    {
     "name": "stdout",
     "output_type": "stream",
     "text": [
      "/content/drive\n"
     ]
    }
   ],
   "source": [
    "cd drive"
   ]
  },
  {
   "cell_type": "code",
   "execution_count": 3,
   "metadata": {
    "colab": {
     "base_uri": "https://localhost:8080/"
    },
    "id": "b3UPoLuYIld1",
    "outputId": "819e0644-183f-4fcb-d1e0-7786901313e1"
   },
   "outputs": [
    {
     "name": "stdout",
     "output_type": "stream",
     "text": [
      "/content/drive/MyDrive\n"
     ]
    }
   ],
   "source": [
    "cd MyDrive"
   ]
  },
  {
   "cell_type": "code",
   "execution_count": 4,
   "metadata": {
    "colab": {
     "base_uri": "https://localhost:8080/"
    },
    "id": "fjTYwmYCIn-c",
    "outputId": "2260e0f5-a53b-40c7-b407-bbb68f33b6db"
   },
   "outputs": [
    {
     "name": "stdout",
     "output_type": "stream",
     "text": [
      "/content/drive/MyDrive/DeepLearning_14Team\n"
     ]
    }
   ],
   "source": [
    "cd DeepLearning_14Team/"
   ]
  },
  {
   "cell_type": "code",
   "execution_count": null,
   "metadata": {
    "colab": {
     "base_uri": "https://localhost:8080/",
     "height": 366
    },
    "id": "gH2pGAmeHPdr",
    "outputId": "66e88084-4490-433d-ec48-1ab9591b4233"
   },
   "outputs": [
    {
     "ename": "KeyboardInterrupt",
     "evalue": "ignored",
     "output_type": "error",
     "traceback": [
      "\u001b[0;31m---------------------------------------------------------------------------\u001b[0m",
      "\u001b[0;31mKeyboardInterrupt\u001b[0m                         Traceback (most recent call last)",
      "\u001b[0;32m<ipython-input-5-9d2a38381e67>\u001b[0m in \u001b[0;36m<module>\u001b[0;34m()\u001b[0m\n\u001b[1;32m      5\u001b[0m \u001b[0;32mfor\u001b[0m \u001b[0mi\u001b[0m \u001b[0;32min\u001b[0m \u001b[0mrange\u001b[0m\u001b[0;34m(\u001b[0m\u001b[0mlen\u001b[0m\u001b[0;34m(\u001b[0m\u001b[0mlist_\u001b[0m\u001b[0;34m)\u001b[0m\u001b[0;34m)\u001b[0m\u001b[0;34m:\u001b[0m\u001b[0;34m\u001b[0m\u001b[0;34m\u001b[0m\u001b[0m\n\u001b[1;32m      6\u001b[0m     \u001b[0mfile_\u001b[0m \u001b[0;34m=\u001b[0m \u001b[0mopen\u001b[0m\u001b[0;34m(\u001b[0m\u001b[0;34m'sorted_data/128/Trajectory/'\u001b[0m \u001b[0;34m+\u001b[0m \u001b[0mlist_\u001b[0m\u001b[0;34m[\u001b[0m\u001b[0mi\u001b[0m\u001b[0;34m]\u001b[0m\u001b[0;34m,\u001b[0m \u001b[0;34m'r'\u001b[0m\u001b[0;34m)\u001b[0m\u001b[0;34m\u001b[0m\u001b[0;34m\u001b[0m\u001b[0m\n\u001b[0;32m----> 7\u001b[0;31m     \u001b[0mfile\u001b[0m \u001b[0;34m=\u001b[0m \u001b[0mfile_\u001b[0m\u001b[0;34m.\u001b[0m\u001b[0mreadlines\u001b[0m\u001b[0;34m(\u001b[0m\u001b[0;34m)\u001b[0m\u001b[0;34m\u001b[0m\u001b[0;34m\u001b[0m\u001b[0m\n\u001b[0m\u001b[1;32m      8\u001b[0m     \u001b[0mfile\u001b[0m \u001b[0;34m=\u001b[0m \u001b[0mfile\u001b[0m\u001b[0;34m[\u001b[0m\u001b[0;36m6\u001b[0m\u001b[0;34m:\u001b[0m\u001b[0;34m]\u001b[0m\u001b[0;34m\u001b[0m\u001b[0;34m\u001b[0m\u001b[0m\n\u001b[1;32m      9\u001b[0m     \u001b[0;32mfor\u001b[0m \u001b[0mj\u001b[0m \u001b[0;32min\u001b[0m \u001b[0mrange\u001b[0m\u001b[0;34m(\u001b[0m\u001b[0mlen\u001b[0m\u001b[0;34m(\u001b[0m\u001b[0mfile\u001b[0m\u001b[0;34m)\u001b[0m\u001b[0;34m)\u001b[0m\u001b[0;34m:\u001b[0m\u001b[0;34m\u001b[0m\u001b[0;34m\u001b[0m\u001b[0m\n",
      "\u001b[0;32m/usr/lib/python3.6/codecs.py\u001b[0m in \u001b[0;36mdecode\u001b[0;34m(self, input, final)\u001b[0m\n\u001b[1;32m    316\u001b[0m         \u001b[0;32mraise\u001b[0m \u001b[0mNotImplementedError\u001b[0m\u001b[0;34m\u001b[0m\u001b[0;34m\u001b[0m\u001b[0m\n\u001b[1;32m    317\u001b[0m \u001b[0;34m\u001b[0m\u001b[0m\n\u001b[0;32m--> 318\u001b[0;31m     \u001b[0;32mdef\u001b[0m \u001b[0mdecode\u001b[0m\u001b[0;34m(\u001b[0m\u001b[0mself\u001b[0m\u001b[0;34m,\u001b[0m \u001b[0minput\u001b[0m\u001b[0;34m,\u001b[0m \u001b[0mfinal\u001b[0m\u001b[0;34m=\u001b[0m\u001b[0;32mFalse\u001b[0m\u001b[0;34m)\u001b[0m\u001b[0;34m:\u001b[0m\u001b[0;34m\u001b[0m\u001b[0;34m\u001b[0m\u001b[0m\n\u001b[0m\u001b[1;32m    319\u001b[0m         \u001b[0;31m# decode input (taking the buffer into account)\u001b[0m\u001b[0;34m\u001b[0m\u001b[0;34m\u001b[0m\u001b[0;34m\u001b[0m\u001b[0m\n\u001b[1;32m    320\u001b[0m         \u001b[0mdata\u001b[0m \u001b[0;34m=\u001b[0m \u001b[0mself\u001b[0m\u001b[0;34m.\u001b[0m\u001b[0mbuffer\u001b[0m \u001b[0;34m+\u001b[0m \u001b[0minput\u001b[0m\u001b[0;34m\u001b[0m\u001b[0;34m\u001b[0m\u001b[0m\n",
      "\u001b[0;31mKeyboardInterrupt\u001b[0m: "
     ]
    }
   ],
   "source": [
    "import os\n",
    "import pandas as pd\n",
    "list_ = os.listdir('sorted_data/128/Trajectory/')\n",
    "sorted_41 = []\n",
    "for i in range(len(list_)):\n",
    "    file_ = open('sorted_data/128/Trajectory/' + list_[i], 'r') \n",
    "    file = file_.readlines()\n",
    "    file = file[6:]\n",
    "    for j in range(len(file)):\n",
    "        tmp = file[j].split(',')\n",
    "        sorted_41.append([float(tmp[0]), float(tmp[1]), tmp[-2] + ' ' +tmp[-1][:-1]])\n",
    "\n",
    "df = pd.DataFrame(sorted_41)\n",
    "df[2] = pd.to_datetime(df[2])\n",
    "df.sort_values(by = [2],inplace=True)\n",
    "df = df.reset_index()\n",
    "df = df[[0,1,2]]"
   ]
  },
  {
   "cell_type": "code",
   "execution_count": 44,
   "metadata": {
    "colab": {
     "base_uri": "https://localhost:8080/",
     "height": 94,
     "resources": {
      "http://localhost:8080/nbextensions/google.colab/files.js": {
       "data": "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",
       "headers": [
        [
         "content-type",
         "application/javascript"
        ]
       ],
       "ok": true,
       "status": 200,
       "status_text": ""
      }
     }
    },
    "id": "e7oEmnxEub3m",
    "outputId": "1a43b48d-499b-48d0-dca5-4fea837545c0"
   },
   "outputs": [
    {
     "data": {
      "text/html": [
       "\n",
       "     <input type=\"file\" id=\"files-f2029180-c3cb-461d-aee5-8c88eb58158d\" name=\"files[]\" multiple disabled\n",
       "        style=\"border:none\" />\n",
       "     <output id=\"result-f2029180-c3cb-461d-aee5-8c88eb58158d\">\n",
       "      Upload widget is only available when the cell has been executed in the\n",
       "      current browser session. Please rerun this cell to enable.\n",
       "      </output>\n",
       "      <script src=\"/nbextensions/google.colab/files.js\"></script> "
      ],
      "text/plain": [
       "<IPython.core.display.HTML object>"
      ]
     },
     "metadata": {
      "tags": []
     },
     "output_type": "display_data"
    },
    {
     "name": "stdout",
     "output_type": "stream",
     "text": [
      "Saving sorted_128_last.csv to sorted_128_last (2).csv\n",
      "User uploaded file \"sorted_128_last.csv\" with length 58497629 bytes\n"
     ]
    }
   ],
   "source": [
    "from google.colab import files\n",
    "\n",
    "uploaded = files.upload()\n",
    "\n",
    "for fn in uploaded.keys():\n",
    "  print('User uploaded file \"{name}\" with length {length} bytes'.format(\n",
    "      name=fn, length=len(uploaded[fn])))"
   ]
  },
  {
   "cell_type": "code",
   "execution_count": null,
   "metadata": {
    "colab": {
     "base_uri": "https://localhost:8080/"
    },
    "id": "Q3ym8KKtHPds",
    "outputId": "c2824bba-81ca-457a-d724-081b5723b73b"
   },
   "outputs": [
    {
     "data": {
      "text/plain": [
       "1208500"
      ]
     },
     "execution_count": 41,
     "metadata": {
      "tags": []
     },
     "output_type": "execute_result"
    }
   ],
   "source": [
    "len(df)"
   ]
  },
  {
   "cell_type": "code",
   "execution_count": 46,
   "metadata": {
    "colab": {
     "base_uri": "https://localhost:8080/"
    },
    "id": "IP0Pga0zTCEj",
    "outputId": "69513d8f-c6d0-48ac-c62d-cf1f98902fcf"
   },
   "outputs": [
    {
     "name": "stderr",
     "output_type": "stream",
     "text": [
      "/usr/local/lib/python3.6/dist-packages/IPython/core/interactiveshell.py:2718: DtypeWarning: Columns (5) have mixed types.Specify dtype option on import or set low_memory=False.\n",
      "  interactivity=interactivity, compiler=compiler, result=result)\n"
     ]
    }
   ],
   "source": [
    "df = pd.read_csv('sorted_128_last (2).csv')"
   ]
  },
  {
   "cell_type": "code",
   "execution_count": 1,
   "metadata": {
    "id": "JtKPeksG0QrF"
   },
   "outputs": [],
   "source": [
    "import pandas as pd\n",
    "df = pd.read_csv('sorted_128_last_1000.csv')"
   ]
  },
  {
   "cell_type": "code",
   "execution_count": 6,
   "metadata": {
    "colab": {
     "base_uri": "https://localhost:8080/",
     "height": 411
    },
    "id": "hA0DBcaw0XnB",
    "outputId": "fae71c01-a72a-45c5-c14c-bd706ab8b30b"
   },
   "outputs": [
    {
     "data": {
      "text/html": [
       "<div>\n",
       "<style scoped>\n",
       "    .dataframe tbody tr th:only-of-type {\n",
       "        vertical-align: middle;\n",
       "    }\n",
       "\n",
       "    .dataframe tbody tr th {\n",
       "        vertical-align: top;\n",
       "    }\n",
       "\n",
       "    .dataframe thead th {\n",
       "        text-align: right;\n",
       "    }\n",
       "</style>\n",
       "<table border=\"1\" class=\"dataframe\">\n",
       "  <thead>\n",
       "    <tr style=\"text-align: right;\">\n",
       "      <th></th>\n",
       "      <th>Unnamed: 0</th>\n",
       "      <th>Unnamed: 0.1</th>\n",
       "      <th>0</th>\n",
       "      <th>1</th>\n",
       "      <th>2</th>\n",
       "      <th>3</th>\n",
       "      <th>4</th>\n",
       "    </tr>\n",
       "  </thead>\n",
       "  <tbody>\n",
       "    <tr>\n",
       "      <th>0</th>\n",
       "      <td>0</td>\n",
       "      <td>0</td>\n",
       "      <td>40.075850</td>\n",
       "      <td>116.327817</td>\n",
       "      <td>2007-04-14</td>\n",
       "      <td>00:56:28</td>\n",
       "      <td>Unnamed Road, Changping Qu, Beijing Shi, 중국</td>\n",
       "    </tr>\n",
       "    <tr>\n",
       "      <th>1</th>\n",
       "      <td>1</td>\n",
       "      <td>1</td>\n",
       "      <td>40.075833</td>\n",
       "      <td>116.327583</td>\n",
       "      <td>2007-04-14</td>\n",
       "      <td>00:56:46</td>\n",
       "      <td>0</td>\n",
       "    </tr>\n",
       "    <tr>\n",
       "      <th>2</th>\n",
       "      <td>2</td>\n",
       "      <td>2</td>\n",
       "      <td>40.076000</td>\n",
       "      <td>116.327567</td>\n",
       "      <td>2007-04-14</td>\n",
       "      <td>00:59:24</td>\n",
       "      <td>0</td>\n",
       "    </tr>\n",
       "    <tr>\n",
       "      <th>3</th>\n",
       "      <td>3</td>\n",
       "      <td>3</td>\n",
       "      <td>40.076300</td>\n",
       "      <td>116.327500</td>\n",
       "      <td>2007-04-14</td>\n",
       "      <td>00:59:50</td>\n",
       "      <td>0</td>\n",
       "    </tr>\n",
       "    <tr>\n",
       "      <th>4</th>\n",
       "      <td>4</td>\n",
       "      <td>4</td>\n",
       "      <td>40.076600</td>\n",
       "      <td>116.327417</td>\n",
       "      <td>2007-04-14</td>\n",
       "      <td>01:00:15</td>\n",
       "      <td>0</td>\n",
       "    </tr>\n",
       "    <tr>\n",
       "      <th>...</th>\n",
       "      <td>...</td>\n",
       "      <td>...</td>\n",
       "      <td>...</td>\n",
       "      <td>...</td>\n",
       "      <td>...</td>\n",
       "      <td>...</td>\n",
       "      <td>...</td>\n",
       "    </tr>\n",
       "    <tr>\n",
       "      <th>995</th>\n",
       "      <td>995</td>\n",
       "      <td>995</td>\n",
       "      <td>40.255033</td>\n",
       "      <td>116.299217</td>\n",
       "      <td>2007-04-15</td>\n",
       "      <td>04:50:17</td>\n",
       "      <td>0</td>\n",
       "    </tr>\n",
       "    <tr>\n",
       "      <th>996</th>\n",
       "      <td>996</td>\n",
       "      <td>996</td>\n",
       "      <td>40.255067</td>\n",
       "      <td>116.299600</td>\n",
       "      <td>2007-04-15</td>\n",
       "      <td>04:50:43</td>\n",
       "      <td>0</td>\n",
       "    </tr>\n",
       "    <tr>\n",
       "      <th>997</th>\n",
       "      <td>997</td>\n",
       "      <td>997</td>\n",
       "      <td>40.255217</td>\n",
       "      <td>116.299767</td>\n",
       "      <td>2007-04-15</td>\n",
       "      <td>04:51:01</td>\n",
       "      <td>중국 베이징 시 베이징시</td>\n",
       "    </tr>\n",
       "    <tr>\n",
       "      <th>998</th>\n",
       "      <td>998</td>\n",
       "      <td>998</td>\n",
       "      <td>40.255483</td>\n",
       "      <td>116.299717</td>\n",
       "      <td>2007-04-15</td>\n",
       "      <td>04:51:21</td>\n",
       "      <td>0</td>\n",
       "    </tr>\n",
       "    <tr>\n",
       "      <th>999</th>\n",
       "      <td>999</td>\n",
       "      <td>999</td>\n",
       "      <td>40.255733</td>\n",
       "      <td>116.299617</td>\n",
       "      <td>2007-04-15</td>\n",
       "      <td>04:51:33</td>\n",
       "      <td>0</td>\n",
       "    </tr>\n",
       "  </tbody>\n",
       "</table>\n",
       "<p>1000 rows × 7 columns</p>\n",
       "</div>"
      ],
      "text/plain": [
       "     Unnamed: 0  ...                                            4\n",
       "0             0  ...  Unnamed Road, Changping Qu, Beijing Shi, 중국\n",
       "1             1  ...                                            0\n",
       "2             2  ...                                            0\n",
       "3             3  ...                                            0\n",
       "4             4  ...                                            0\n",
       "..          ...  ...                                          ...\n",
       "995         995  ...                                            0\n",
       "996         996  ...                                            0\n",
       "997         997  ...                                중국 베이징 시 베이징시\n",
       "998         998  ...                                            0\n",
       "999         999  ...                                            0\n",
       "\n",
       "[1000 rows x 7 columns]"
      ]
     },
     "execution_count": 6,
     "metadata": {
      "tags": []
     },
     "output_type": "execute_result"
    }
   ],
   "source": [
    "df"
   ]
  },
  {
   "cell_type": "markdown",
   "metadata": {
    "id": "Jt5H5hRtHPdt"
   },
   "source": [
    "# 데이터 분리하기\n",
    "1. 데이터가 너무 많다는 점\n",
    "2. 어느 곳에 방문할지에 대한 정보가 좀 더 중요하다는 점\n",
    "3. 사람이 걸을 수 있는 정도가 한정되어 있다는 점 <br>\n",
    "세가지를 고려할 때 모두를 학습시키기 보다는 일부분을 쪼개서 학습시키는 것이 합리적"
   ]
  },
  {
   "cell_type": "code",
   "execution_count": null,
   "metadata": {
    "id": "ncIOhtPzHPdu"
   },
   "outputs": [],
   "source": [
    "a = []\n",
    "for i in range(1208499):\n",
    "    if i % 30 == 0:\n",
    "        diff = df[2].iloc[i + 1] - df[2].iloc[i]\n",
    "        a.append(diff)"
   ]
  },
  {
   "cell_type": "code",
   "execution_count": null,
   "metadata": {
    "id": "b2Wdl8n9HPdu"
   },
   "outputs": [],
   "source": [
    "result = a[0]\n",
    "for i in range(1,len(a)):\n",
    "    result += a[i]"
   ]
  },
  {
   "cell_type": "code",
   "execution_count": null,
   "metadata": {
    "colab": {
     "base_uri": "https://localhost:8080/"
    },
    "id": "uYIu6StpHPdv",
    "outputId": "4e2d8a5d-d358-4ece-c5db-60e4426e45c5"
   },
   "outputs": [
    {
     "data": {
      "text/plain": [
       "Timedelta('0 days 00:01:27.645094826')"
      ]
     },
     "execution_count": 9,
     "metadata": {
      "tags": []
     },
     "output_type": "execute_result"
    }
   ],
   "source": [
    "result / len(a)"
   ]
  },
  {
   "cell_type": "markdown",
   "metadata": {
    "id": "zgw6CorrHPdv"
   },
   "source": [
    "# 30분 단위로 쪼개서 이 사람의 미래 예측하는 형태\n",
    "    평균이 1분 27초 정도되니 30정도 곱해서 30분 단위로 예측해볼 것임"
   ]
  },
  {
   "cell_type": "code",
   "execution_count": 2,
   "metadata": {
    "id": "DsKqvFtxHPdv"
   },
   "outputs": [],
   "source": [
    "df_diff_30 = []\n",
    "for i in range(0,len(df),30):\n",
    "    df_diff_30.append(df.iloc[i])"
   ]
  },
  {
   "cell_type": "code",
   "execution_count": null,
   "metadata": {
    "colab": {
     "base_uri": "https://localhost:8080/"
    },
    "id": "wP1EIJFsHPdw",
    "outputId": "56ec940c-b581-4ce7-b3bc-7e56ad55afc1"
   },
   "outputs": [
    {
     "data": {
      "text/plain": [
       "40284"
      ]
     },
     "execution_count": 11,
     "metadata": {
      "tags": []
     },
     "output_type": "execute_result"
    }
   ],
   "source": [
    "len(df_diff_30)"
   ]
  },
  {
   "cell_type": "code",
   "execution_count": 3,
   "metadata": {
    "id": "sEWJ1I59HPdw"
   },
   "outputs": [],
   "source": [
    "df_diff_30_pd = pd.DataFrame(df_diff_30)"
   ]
  },
  {
   "cell_type": "code",
   "execution_count": 4,
   "metadata": {},
   "outputs": [
    {
     "data": {
      "text/html": [
       "<div>\n",
       "<style scoped>\n",
       "    .dataframe tbody tr th:only-of-type {\n",
       "        vertical-align: middle;\n",
       "    }\n",
       "\n",
       "    .dataframe tbody tr th {\n",
       "        vertical-align: top;\n",
       "    }\n",
       "\n",
       "    .dataframe thead th {\n",
       "        text-align: right;\n",
       "    }\n",
       "</style>\n",
       "<table border=\"1\" class=\"dataframe\">\n",
       "  <thead>\n",
       "    <tr style=\"text-align: right;\">\n",
       "      <th></th>\n",
       "      <th>Unnamed: 0</th>\n",
       "      <th>Unnamed: 0.1</th>\n",
       "      <th>0</th>\n",
       "      <th>1</th>\n",
       "      <th>2</th>\n",
       "      <th>3</th>\n",
       "      <th>4</th>\n",
       "    </tr>\n",
       "  </thead>\n",
       "  <tbody>\n",
       "    <tr>\n",
       "      <th>0</th>\n",
       "      <td>0</td>\n",
       "      <td>0</td>\n",
       "      <td>40.075850</td>\n",
       "      <td>116.327817</td>\n",
       "      <td>2007-04-14</td>\n",
       "      <td>00:56:28</td>\n",
       "      <td>Unnamed Road, Changping Qu, Beijing Shi, 중국</td>\n",
       "    </tr>\n",
       "    <tr>\n",
       "      <th>30</th>\n",
       "      <td>30</td>\n",
       "      <td>30</td>\n",
       "      <td>40.076483</td>\n",
       "      <td>116.321833</td>\n",
       "      <td>2007-04-14</td>\n",
       "      <td>01:10:40</td>\n",
       "      <td>0</td>\n",
       "    </tr>\n",
       "    <tr>\n",
       "      <th>60</th>\n",
       "      <td>60</td>\n",
       "      <td>60</td>\n",
       "      <td>40.051017</td>\n",
       "      <td>116.323883</td>\n",
       "      <td>2007-04-14</td>\n",
       "      <td>01:35:35</td>\n",
       "      <td>중국 Beijing Shi, Haidian Qu, 安宁庄东路北口</td>\n",
       "    </tr>\n",
       "    <tr>\n",
       "      <th>90</th>\n",
       "      <td>90</td>\n",
       "      <td>90</td>\n",
       "      <td>40.046900</td>\n",
       "      <td>116.320683</td>\n",
       "      <td>2007-04-14</td>\n",
       "      <td>01:48:46</td>\n",
       "      <td>0</td>\n",
       "    </tr>\n",
       "    <tr>\n",
       "      <th>120</th>\n",
       "      <td>120</td>\n",
       "      <td>120</td>\n",
       "      <td>40.040267</td>\n",
       "      <td>116.325833</td>\n",
       "      <td>2007-04-14</td>\n",
       "      <td>01:59:23</td>\n",
       "      <td>중국 Beijing Shi, Haidian Qu, 安宁庄前街</td>\n",
       "    </tr>\n",
       "    <tr>\n",
       "      <th>150</th>\n",
       "      <td>150</td>\n",
       "      <td>150</td>\n",
       "      <td>40.036267</td>\n",
       "      <td>116.310317</td>\n",
       "      <td>2007-04-14</td>\n",
       "      <td>02:18:03</td>\n",
       "      <td>0</td>\n",
       "    </tr>\n",
       "    <tr>\n",
       "      <th>180</th>\n",
       "      <td>180</td>\n",
       "      <td>180</td>\n",
       "      <td>40.014733</td>\n",
       "      <td>116.311717</td>\n",
       "      <td>2007-04-14</td>\n",
       "      <td>02:33:58</td>\n",
       "      <td>47 Zhongguancun N St, Haidian Qu, Beijing Shi, 중국</td>\n",
       "    </tr>\n",
       "    <tr>\n",
       "      <th>210</th>\n",
       "      <td>210</td>\n",
       "      <td>210</td>\n",
       "      <td>39.991983</td>\n",
       "      <td>116.309617</td>\n",
       "      <td>2007-04-14</td>\n",
       "      <td>02:53:37</td>\n",
       "      <td>0</td>\n",
       "    </tr>\n",
       "    <tr>\n",
       "      <th>240</th>\n",
       "      <td>240</td>\n",
       "      <td>240</td>\n",
       "      <td>39.985300</td>\n",
       "      <td>116.309717</td>\n",
       "      <td>2007-04-14</td>\n",
       "      <td>03:16:52</td>\n",
       "      <td>중국 Beijing Shi, Haidian Qu, Zhong Guan Cun, 海淀桥东</td>\n",
       "    </tr>\n",
       "    <tr>\n",
       "      <th>270</th>\n",
       "      <td>270</td>\n",
       "      <td>270</td>\n",
       "      <td>39.979617</td>\n",
       "      <td>116.313667</td>\n",
       "      <td>2007-04-14</td>\n",
       "      <td>03:27:36</td>\n",
       "      <td>0</td>\n",
       "    </tr>\n",
       "    <tr>\n",
       "      <th>300</th>\n",
       "      <td>300</td>\n",
       "      <td>300</td>\n",
       "      <td>39.979583</td>\n",
       "      <td>116.322567</td>\n",
       "      <td>2007-04-14</td>\n",
       "      <td>03:36:21</td>\n",
       "      <td>B 12-1 Ke Xue Yuan Nan Lu, Haidian Qu, Beijing...</td>\n",
       "    </tr>\n",
       "    <tr>\n",
       "      <th>330</th>\n",
       "      <td>330</td>\n",
       "      <td>330</td>\n",
       "      <td>39.976900</td>\n",
       "      <td>116.328100</td>\n",
       "      <td>2007-04-14</td>\n",
       "      <td>03:46:26</td>\n",
       "      <td>0</td>\n",
       "    </tr>\n",
       "    <tr>\n",
       "      <th>360</th>\n",
       "      <td>360</td>\n",
       "      <td>360</td>\n",
       "      <td>40.069283</td>\n",
       "      <td>116.329650</td>\n",
       "      <td>2007-04-14</td>\n",
       "      <td>13:20:22</td>\n",
       "      <td>0</td>\n",
       "    </tr>\n",
       "    <tr>\n",
       "      <th>390</th>\n",
       "      <td>390</td>\n",
       "      <td>390</td>\n",
       "      <td>40.075950</td>\n",
       "      <td>116.327583</td>\n",
       "      <td>2007-04-14</td>\n",
       "      <td>13:31:34</td>\n",
       "      <td>0</td>\n",
       "    </tr>\n",
       "    <tr>\n",
       "      <th>420</th>\n",
       "      <td>420</td>\n",
       "      <td>420</td>\n",
       "      <td>40.075950</td>\n",
       "      <td>116.321033</td>\n",
       "      <td>2007-04-15</td>\n",
       "      <td>00:11:24</td>\n",
       "      <td>0</td>\n",
       "    </tr>\n",
       "    <tr>\n",
       "      <th>450</th>\n",
       "      <td>450</td>\n",
       "      <td>450</td>\n",
       "      <td>40.075833</td>\n",
       "      <td>116.322983</td>\n",
       "      <td>2007-04-15</td>\n",
       "      <td>01:50:36</td>\n",
       "      <td>0</td>\n",
       "    </tr>\n",
       "    <tr>\n",
       "      <th>480</th>\n",
       "      <td>480</td>\n",
       "      <td>480</td>\n",
       "      <td>40.087767</td>\n",
       "      <td>116.297283</td>\n",
       "      <td>2007-04-15</td>\n",
       "      <td>02:01:14</td>\n",
       "      <td>0</td>\n",
       "    </tr>\n",
       "    <tr>\n",
       "      <th>510</th>\n",
       "      <td>510</td>\n",
       "      <td>510</td>\n",
       "      <td>40.106583</td>\n",
       "      <td>116.282217</td>\n",
       "      <td>2007-04-15</td>\n",
       "      <td>02:08:56</td>\n",
       "      <td>0</td>\n",
       "    </tr>\n",
       "    <tr>\n",
       "      <th>540</th>\n",
       "      <td>540</td>\n",
       "      <td>540</td>\n",
       "      <td>40.133383</td>\n",
       "      <td>116.262100</td>\n",
       "      <td>2007-04-15</td>\n",
       "      <td>02:19:00</td>\n",
       "      <td>0</td>\n",
       "    </tr>\n",
       "    <tr>\n",
       "      <th>570</th>\n",
       "      <td>570</td>\n",
       "      <td>570</td>\n",
       "      <td>40.158483</td>\n",
       "      <td>116.243333</td>\n",
       "      <td>2007-04-15</td>\n",
       "      <td>02:27:27</td>\n",
       "      <td>0</td>\n",
       "    </tr>\n",
       "    <tr>\n",
       "      <th>600</th>\n",
       "      <td>600</td>\n",
       "      <td>600</td>\n",
       "      <td>40.182183</td>\n",
       "      <td>116.232183</td>\n",
       "      <td>2007-04-15</td>\n",
       "      <td>02:35:31</td>\n",
       "      <td>0</td>\n",
       "    </tr>\n",
       "    <tr>\n",
       "      <th>630</th>\n",
       "      <td>630</td>\n",
       "      <td>630</td>\n",
       "      <td>40.211133</td>\n",
       "      <td>116.222750</td>\n",
       "      <td>2007-04-15</td>\n",
       "      <td>02:49:05</td>\n",
       "      <td>0</td>\n",
       "    </tr>\n",
       "    <tr>\n",
       "      <th>660</th>\n",
       "      <td>660</td>\n",
       "      <td>660</td>\n",
       "      <td>40.220083</td>\n",
       "      <td>116.250917</td>\n",
       "      <td>2007-04-15</td>\n",
       "      <td>03:00:40</td>\n",
       "      <td>0</td>\n",
       "    </tr>\n",
       "    <tr>\n",
       "      <th>690</th>\n",
       "      <td>690</td>\n",
       "      <td>690</td>\n",
       "      <td>40.244117</td>\n",
       "      <td>116.262900</td>\n",
       "      <td>2007-04-15</td>\n",
       "      <td>03:10:11</td>\n",
       "      <td>0</td>\n",
       "    </tr>\n",
       "    <tr>\n",
       "      <th>720</th>\n",
       "      <td>720</td>\n",
       "      <td>720</td>\n",
       "      <td>40.252067</td>\n",
       "      <td>116.268900</td>\n",
       "      <td>2007-04-15</td>\n",
       "      <td>03:17:52</td>\n",
       "      <td>0</td>\n",
       "    </tr>\n",
       "    <tr>\n",
       "      <th>750</th>\n",
       "      <td>750</td>\n",
       "      <td>750</td>\n",
       "      <td>40.242483</td>\n",
       "      <td>116.262883</td>\n",
       "      <td>2007-04-15</td>\n",
       "      <td>03:25:19</td>\n",
       "      <td>0</td>\n",
       "    </tr>\n",
       "    <tr>\n",
       "      <th>780</th>\n",
       "      <td>780</td>\n",
       "      <td>780</td>\n",
       "      <td>40.231700</td>\n",
       "      <td>116.294067</td>\n",
       "      <td>2007-04-15</td>\n",
       "      <td>03:38:29</td>\n",
       "      <td>0</td>\n",
       "    </tr>\n",
       "    <tr>\n",
       "      <th>810</th>\n",
       "      <td>810</td>\n",
       "      <td>810</td>\n",
       "      <td>40.235300</td>\n",
       "      <td>116.304850</td>\n",
       "      <td>2007-04-15</td>\n",
       "      <td>03:51:34</td>\n",
       "      <td>0</td>\n",
       "    </tr>\n",
       "    <tr>\n",
       "      <th>840</th>\n",
       "      <td>840</td>\n",
       "      <td>840</td>\n",
       "      <td>40.243983</td>\n",
       "      <td>116.301350</td>\n",
       "      <td>2007-04-15</td>\n",
       "      <td>03:59:29</td>\n",
       "      <td>0</td>\n",
       "    </tr>\n",
       "    <tr>\n",
       "      <th>870</th>\n",
       "      <td>870</td>\n",
       "      <td>870</td>\n",
       "      <td>40.242567</td>\n",
       "      <td>116.307233</td>\n",
       "      <td>2007-04-15</td>\n",
       "      <td>04:09:34</td>\n",
       "      <td>0</td>\n",
       "    </tr>\n",
       "    <tr>\n",
       "      <th>900</th>\n",
       "      <td>900</td>\n",
       "      <td>900</td>\n",
       "      <td>40.245583</td>\n",
       "      <td>116.310017</td>\n",
       "      <td>2007-04-15</td>\n",
       "      <td>04:18:54</td>\n",
       "      <td>0</td>\n",
       "    </tr>\n",
       "    <tr>\n",
       "      <th>930</th>\n",
       "      <td>930</td>\n",
       "      <td>930</td>\n",
       "      <td>40.250067</td>\n",
       "      <td>116.301583</td>\n",
       "      <td>2007-04-15</td>\n",
       "      <td>04:26:27</td>\n",
       "      <td>0</td>\n",
       "    </tr>\n",
       "    <tr>\n",
       "      <th>960</th>\n",
       "      <td>960</td>\n",
       "      <td>960</td>\n",
       "      <td>40.255333</td>\n",
       "      <td>116.291483</td>\n",
       "      <td>2007-04-15</td>\n",
       "      <td>04:38:54</td>\n",
       "      <td>0</td>\n",
       "    </tr>\n",
       "    <tr>\n",
       "      <th>990</th>\n",
       "      <td>990</td>\n",
       "      <td>990</td>\n",
       "      <td>40.255767</td>\n",
       "      <td>116.297633</td>\n",
       "      <td>2007-04-15</td>\n",
       "      <td>04:48:02</td>\n",
       "      <td>0</td>\n",
       "    </tr>\n",
       "  </tbody>\n",
       "</table>\n",
       "</div>"
      ],
      "text/plain": [
       "     Unnamed: 0  Unnamed: 0.1          0           1           2         3  \\\n",
       "0             0             0  40.075850  116.327817  2007-04-14  00:56:28   \n",
       "30           30            30  40.076483  116.321833  2007-04-14  01:10:40   \n",
       "60           60            60  40.051017  116.323883  2007-04-14  01:35:35   \n",
       "90           90            90  40.046900  116.320683  2007-04-14  01:48:46   \n",
       "120         120           120  40.040267  116.325833  2007-04-14  01:59:23   \n",
       "150         150           150  40.036267  116.310317  2007-04-14  02:18:03   \n",
       "180         180           180  40.014733  116.311717  2007-04-14  02:33:58   \n",
       "210         210           210  39.991983  116.309617  2007-04-14  02:53:37   \n",
       "240         240           240  39.985300  116.309717  2007-04-14  03:16:52   \n",
       "270         270           270  39.979617  116.313667  2007-04-14  03:27:36   \n",
       "300         300           300  39.979583  116.322567  2007-04-14  03:36:21   \n",
       "330         330           330  39.976900  116.328100  2007-04-14  03:46:26   \n",
       "360         360           360  40.069283  116.329650  2007-04-14  13:20:22   \n",
       "390         390           390  40.075950  116.327583  2007-04-14  13:31:34   \n",
       "420         420           420  40.075950  116.321033  2007-04-15  00:11:24   \n",
       "450         450           450  40.075833  116.322983  2007-04-15  01:50:36   \n",
       "480         480           480  40.087767  116.297283  2007-04-15  02:01:14   \n",
       "510         510           510  40.106583  116.282217  2007-04-15  02:08:56   \n",
       "540         540           540  40.133383  116.262100  2007-04-15  02:19:00   \n",
       "570         570           570  40.158483  116.243333  2007-04-15  02:27:27   \n",
       "600         600           600  40.182183  116.232183  2007-04-15  02:35:31   \n",
       "630         630           630  40.211133  116.222750  2007-04-15  02:49:05   \n",
       "660         660           660  40.220083  116.250917  2007-04-15  03:00:40   \n",
       "690         690           690  40.244117  116.262900  2007-04-15  03:10:11   \n",
       "720         720           720  40.252067  116.268900  2007-04-15  03:17:52   \n",
       "750         750           750  40.242483  116.262883  2007-04-15  03:25:19   \n",
       "780         780           780  40.231700  116.294067  2007-04-15  03:38:29   \n",
       "810         810           810  40.235300  116.304850  2007-04-15  03:51:34   \n",
       "840         840           840  40.243983  116.301350  2007-04-15  03:59:29   \n",
       "870         870           870  40.242567  116.307233  2007-04-15  04:09:34   \n",
       "900         900           900  40.245583  116.310017  2007-04-15  04:18:54   \n",
       "930         930           930  40.250067  116.301583  2007-04-15  04:26:27   \n",
       "960         960           960  40.255333  116.291483  2007-04-15  04:38:54   \n",
       "990         990           990  40.255767  116.297633  2007-04-15  04:48:02   \n",
       "\n",
       "                                                     4  \n",
       "0          Unnamed Road, Changping Qu, Beijing Shi, 중국  \n",
       "30                                                   0  \n",
       "60                 중국 Beijing Shi, Haidian Qu, 安宁庄东路北口  \n",
       "90                                                   0  \n",
       "120                  중국 Beijing Shi, Haidian Qu, 安宁庄前街  \n",
       "150                                                  0  \n",
       "180  47 Zhongguancun N St, Haidian Qu, Beijing Shi, 중국  \n",
       "210                                                  0  \n",
       "240   중국 Beijing Shi, Haidian Qu, Zhong Guan Cun, 海淀桥东  \n",
       "270                                                  0  \n",
       "300  B 12-1 Ke Xue Yuan Nan Lu, Haidian Qu, Beijing...  \n",
       "330                                                  0  \n",
       "360                                                  0  \n",
       "390                                                  0  \n",
       "420                                                  0  \n",
       "450                                                  0  \n",
       "480                                                  0  \n",
       "510                                                  0  \n",
       "540                                                  0  \n",
       "570                                                  0  \n",
       "600                                                  0  \n",
       "630                                                  0  \n",
       "660                                                  0  \n",
       "690                                                  0  \n",
       "720                                                  0  \n",
       "750                                                  0  \n",
       "780                                                  0  \n",
       "810                                                  0  \n",
       "840                                                  0  \n",
       "870                                                  0  \n",
       "900                                                  0  \n",
       "930                                                  0  \n",
       "960                                                  0  \n",
       "990                                                  0  "
      ]
     },
     "execution_count": 4,
     "metadata": {},
     "output_type": "execute_result"
    }
   ],
   "source": [
    "df_diff_30_pd"
   ]
  },
  {
   "cell_type": "code",
   "execution_count": null,
   "metadata": {
    "colab": {
     "base_uri": "https://localhost:8080/",
     "height": 585
    },
    "id": "BNsf2y-mHPdw",
    "outputId": "bec870ae-e34d-4db8-aae6-dab6d87303f8"
   },
   "outputs": [
    {
     "ename": "KeyError",
     "evalue": "ignored",
     "output_type": "error",
     "traceback": [
      "\u001b[0;31m---------------------------------------------------------------------------\u001b[0m",
      "\u001b[0;31mKeyError\u001b[0m                                  Traceback (most recent call last)",
      "\u001b[0;32m/usr/local/lib/python3.6/dist-packages/pandas/core/indexes/base.py\u001b[0m in \u001b[0;36mget_loc\u001b[0;34m(self, key, method, tolerance)\u001b[0m\n\u001b[1;32m   2897\u001b[0m             \u001b[0;32mtry\u001b[0m\u001b[0;34m:\u001b[0m\u001b[0;34m\u001b[0m\u001b[0;34m\u001b[0m\u001b[0m\n\u001b[0;32m-> 2898\u001b[0;31m                 \u001b[0;32mreturn\u001b[0m \u001b[0mself\u001b[0m\u001b[0;34m.\u001b[0m\u001b[0m_engine\u001b[0m\u001b[0;34m.\u001b[0m\u001b[0mget_loc\u001b[0m\u001b[0;34m(\u001b[0m\u001b[0mcasted_key\u001b[0m\u001b[0;34m)\u001b[0m\u001b[0;34m\u001b[0m\u001b[0;34m\u001b[0m\u001b[0m\n\u001b[0m\u001b[1;32m   2899\u001b[0m             \u001b[0;32mexcept\u001b[0m \u001b[0mKeyError\u001b[0m \u001b[0;32mas\u001b[0m \u001b[0merr\u001b[0m\u001b[0;34m:\u001b[0m\u001b[0;34m\u001b[0m\u001b[0;34m\u001b[0m\u001b[0m\n",
      "\u001b[0;32mpandas/_libs/index.pyx\u001b[0m in \u001b[0;36mpandas._libs.index.IndexEngine.get_loc\u001b[0;34m()\u001b[0m\n",
      "\u001b[0;32mpandas/_libs/index.pyx\u001b[0m in \u001b[0;36mpandas._libs.index.IndexEngine.get_loc\u001b[0;34m()\u001b[0m\n",
      "\u001b[0;32mpandas/_libs/hashtable_class_helper.pxi\u001b[0m in \u001b[0;36mpandas._libs.hashtable.PyObjectHashTable.get_item\u001b[0;34m()\u001b[0m\n",
      "\u001b[0;32mpandas/_libs/hashtable_class_helper.pxi\u001b[0m in \u001b[0;36mpandas._libs.hashtable.PyObjectHashTable.get_item\u001b[0;34m()\u001b[0m\n",
      "\u001b[0;31mKeyError\u001b[0m: 0",
      "\nThe above exception was the direct cause of the following exception:\n",
      "\u001b[0;31mKeyError\u001b[0m                                  Traceback (most recent call last)",
      "\u001b[0;32m<ipython-input-12-ed7690d8fd36>\u001b[0m in \u001b[0;36m<module>\u001b[0;34m()\u001b[0m\n\u001b[0;32m----> 1\u001b[0;31m \u001b[0mdf_diff_30_pd\u001b[0m\u001b[0;34m[\u001b[0m\u001b[0;36m0\u001b[0m\u001b[0;34m]\u001b[0m\u001b[0;34m,\u001b[0m \u001b[0mdf_diff_30_pd\u001b[0m\u001b[0;34m[\u001b[0m\u001b[0;36m1\u001b[0m\u001b[0;34m]\u001b[0m\u001b[0;34m,\u001b[0m \u001b[0mdf_diff_30_pd\u001b[0m\u001b[0;34m[\u001b[0m\u001b[0;36m2\u001b[0m\u001b[0;34m]\u001b[0m\u001b[0;34m\u001b[0m\u001b[0;34m\u001b[0m\u001b[0m\n\u001b[0m",
      "\u001b[0;32m/usr/local/lib/python3.6/dist-packages/pandas/core/frame.py\u001b[0m in \u001b[0;36m__getitem__\u001b[0;34m(self, key)\u001b[0m\n\u001b[1;32m   2904\u001b[0m             \u001b[0;32mif\u001b[0m \u001b[0mself\u001b[0m\u001b[0;34m.\u001b[0m\u001b[0mcolumns\u001b[0m\u001b[0;34m.\u001b[0m\u001b[0mnlevels\u001b[0m \u001b[0;34m>\u001b[0m \u001b[0;36m1\u001b[0m\u001b[0;34m:\u001b[0m\u001b[0;34m\u001b[0m\u001b[0;34m\u001b[0m\u001b[0m\n\u001b[1;32m   2905\u001b[0m                 \u001b[0;32mreturn\u001b[0m \u001b[0mself\u001b[0m\u001b[0;34m.\u001b[0m\u001b[0m_getitem_multilevel\u001b[0m\u001b[0;34m(\u001b[0m\u001b[0mkey\u001b[0m\u001b[0;34m)\u001b[0m\u001b[0;34m\u001b[0m\u001b[0;34m\u001b[0m\u001b[0m\n\u001b[0;32m-> 2906\u001b[0;31m             \u001b[0mindexer\u001b[0m \u001b[0;34m=\u001b[0m \u001b[0mself\u001b[0m\u001b[0;34m.\u001b[0m\u001b[0mcolumns\u001b[0m\u001b[0;34m.\u001b[0m\u001b[0mget_loc\u001b[0m\u001b[0;34m(\u001b[0m\u001b[0mkey\u001b[0m\u001b[0;34m)\u001b[0m\u001b[0;34m\u001b[0m\u001b[0;34m\u001b[0m\u001b[0m\n\u001b[0m\u001b[1;32m   2907\u001b[0m             \u001b[0;32mif\u001b[0m \u001b[0mis_integer\u001b[0m\u001b[0;34m(\u001b[0m\u001b[0mindexer\u001b[0m\u001b[0;34m)\u001b[0m\u001b[0;34m:\u001b[0m\u001b[0;34m\u001b[0m\u001b[0;34m\u001b[0m\u001b[0m\n\u001b[1;32m   2908\u001b[0m                 \u001b[0mindexer\u001b[0m \u001b[0;34m=\u001b[0m \u001b[0;34m[\u001b[0m\u001b[0mindexer\u001b[0m\u001b[0;34m]\u001b[0m\u001b[0;34m\u001b[0m\u001b[0;34m\u001b[0m\u001b[0m\n",
      "\u001b[0;32m/usr/local/lib/python3.6/dist-packages/pandas/core/indexes/base.py\u001b[0m in \u001b[0;36mget_loc\u001b[0;34m(self, key, method, tolerance)\u001b[0m\n\u001b[1;32m   2898\u001b[0m                 \u001b[0;32mreturn\u001b[0m \u001b[0mself\u001b[0m\u001b[0;34m.\u001b[0m\u001b[0m_engine\u001b[0m\u001b[0;34m.\u001b[0m\u001b[0mget_loc\u001b[0m\u001b[0;34m(\u001b[0m\u001b[0mcasted_key\u001b[0m\u001b[0;34m)\u001b[0m\u001b[0;34m\u001b[0m\u001b[0;34m\u001b[0m\u001b[0m\n\u001b[1;32m   2899\u001b[0m             \u001b[0;32mexcept\u001b[0m \u001b[0mKeyError\u001b[0m \u001b[0;32mas\u001b[0m \u001b[0merr\u001b[0m\u001b[0;34m:\u001b[0m\u001b[0;34m\u001b[0m\u001b[0;34m\u001b[0m\u001b[0m\n\u001b[0;32m-> 2900\u001b[0;31m                 \u001b[0;32mraise\u001b[0m \u001b[0mKeyError\u001b[0m\u001b[0;34m(\u001b[0m\u001b[0mkey\u001b[0m\u001b[0;34m)\u001b[0m \u001b[0;32mfrom\u001b[0m \u001b[0merr\u001b[0m\u001b[0;34m\u001b[0m\u001b[0;34m\u001b[0m\u001b[0m\n\u001b[0m\u001b[1;32m   2901\u001b[0m \u001b[0;34m\u001b[0m\u001b[0m\n\u001b[1;32m   2902\u001b[0m         \u001b[0;32mif\u001b[0m \u001b[0mtolerance\u001b[0m \u001b[0;32mis\u001b[0m \u001b[0;32mnot\u001b[0m \u001b[0;32mNone\u001b[0m\u001b[0;34m:\u001b[0m\u001b[0;34m\u001b[0m\u001b[0;34m\u001b[0m\u001b[0m\n",
      "\u001b[0;31mKeyError\u001b[0m: 0"
     ]
    }
   ],
   "source": [
    "df_diff_30_pd[0], df_diff_30_pd[1], df_diff_30_pd[2]"
   ]
  },
  {
   "cell_type": "markdown",
   "metadata": {
    "id": "HPu6dCeeHPdw"
   },
   "source": [
    "# 30분 단위로 쪼갠다!"
   ]
  },
  {
   "cell_type": "code",
   "execution_count": null,
   "metadata": {
    "colab": {
     "base_uri": "https://localhost:8080/",
     "height": 585
    },
    "id": "XvMvKMy80m3q",
    "outputId": "c464765a-4455-4c9b-83a2-79f4241ef4b1"
   },
   "outputs": [
    {
     "ename": "KeyError",
     "evalue": "ignored",
     "output_type": "error",
     "traceback": [
      "\u001b[0;31m---------------------------------------------------------------------------\u001b[0m",
      "\u001b[0;31mKeyError\u001b[0m                                  Traceback (most recent call last)",
      "\u001b[0;32m/usr/local/lib/python3.6/dist-packages/pandas/core/indexes/base.py\u001b[0m in \u001b[0;36mget_loc\u001b[0;34m(self, key, method, tolerance)\u001b[0m\n\u001b[1;32m   2897\u001b[0m             \u001b[0;32mtry\u001b[0m\u001b[0;34m:\u001b[0m\u001b[0;34m\u001b[0m\u001b[0;34m\u001b[0m\u001b[0m\n\u001b[0;32m-> 2898\u001b[0;31m                 \u001b[0;32mreturn\u001b[0m \u001b[0mself\u001b[0m\u001b[0;34m.\u001b[0m\u001b[0m_engine\u001b[0m\u001b[0;34m.\u001b[0m\u001b[0mget_loc\u001b[0m\u001b[0;34m(\u001b[0m\u001b[0mcasted_key\u001b[0m\u001b[0;34m)\u001b[0m\u001b[0;34m\u001b[0m\u001b[0;34m\u001b[0m\u001b[0m\n\u001b[0m\u001b[1;32m   2899\u001b[0m             \u001b[0;32mexcept\u001b[0m \u001b[0mKeyError\u001b[0m \u001b[0;32mas\u001b[0m \u001b[0merr\u001b[0m\u001b[0;34m:\u001b[0m\u001b[0;34m\u001b[0m\u001b[0;34m\u001b[0m\u001b[0m\n",
      "\u001b[0;32mpandas/_libs/index.pyx\u001b[0m in \u001b[0;36mpandas._libs.index.IndexEngine.get_loc\u001b[0;34m()\u001b[0m\n",
      "\u001b[0;32mpandas/_libs/index.pyx\u001b[0m in \u001b[0;36mpandas._libs.index.IndexEngine.get_loc\u001b[0;34m()\u001b[0m\n",
      "\u001b[0;32mpandas/_libs/hashtable_class_helper.pxi\u001b[0m in \u001b[0;36mpandas._libs.hashtable.PyObjectHashTable.get_item\u001b[0;34m()\u001b[0m\n",
      "\u001b[0;32mpandas/_libs/hashtable_class_helper.pxi\u001b[0m in \u001b[0;36mpandas._libs.hashtable.PyObjectHashTable.get_item\u001b[0;34m()\u001b[0m\n",
      "\u001b[0;31mKeyError\u001b[0m: 0",
      "\nThe above exception was the direct cause of the following exception:\n",
      "\u001b[0;31mKeyError\u001b[0m                                  Traceback (most recent call last)",
      "\u001b[0;32m<ipython-input-16-7e925daa23cb>\u001b[0m in \u001b[0;36m<module>\u001b[0;34m()\u001b[0m\n\u001b[0;32m----> 1\u001b[0;31m \u001b[0mdf_128_30\u001b[0m\u001b[0;34m[\u001b[0m\u001b[0;36m0\u001b[0m\u001b[0;34m]\u001b[0m\u001b[0;34m\u001b[0m\u001b[0;34m\u001b[0m\u001b[0m\n\u001b[0m",
      "\u001b[0;32m/usr/local/lib/python3.6/dist-packages/pandas/core/frame.py\u001b[0m in \u001b[0;36m__getitem__\u001b[0;34m(self, key)\u001b[0m\n\u001b[1;32m   2904\u001b[0m             \u001b[0;32mif\u001b[0m \u001b[0mself\u001b[0m\u001b[0;34m.\u001b[0m\u001b[0mcolumns\u001b[0m\u001b[0;34m.\u001b[0m\u001b[0mnlevels\u001b[0m \u001b[0;34m>\u001b[0m \u001b[0;36m1\u001b[0m\u001b[0;34m:\u001b[0m\u001b[0;34m\u001b[0m\u001b[0;34m\u001b[0m\u001b[0m\n\u001b[1;32m   2905\u001b[0m                 \u001b[0;32mreturn\u001b[0m \u001b[0mself\u001b[0m\u001b[0;34m.\u001b[0m\u001b[0m_getitem_multilevel\u001b[0m\u001b[0;34m(\u001b[0m\u001b[0mkey\u001b[0m\u001b[0;34m)\u001b[0m\u001b[0;34m\u001b[0m\u001b[0;34m\u001b[0m\u001b[0m\n\u001b[0;32m-> 2906\u001b[0;31m             \u001b[0mindexer\u001b[0m \u001b[0;34m=\u001b[0m \u001b[0mself\u001b[0m\u001b[0;34m.\u001b[0m\u001b[0mcolumns\u001b[0m\u001b[0;34m.\u001b[0m\u001b[0mget_loc\u001b[0m\u001b[0;34m(\u001b[0m\u001b[0mkey\u001b[0m\u001b[0;34m)\u001b[0m\u001b[0;34m\u001b[0m\u001b[0;34m\u001b[0m\u001b[0m\n\u001b[0m\u001b[1;32m   2907\u001b[0m             \u001b[0;32mif\u001b[0m \u001b[0mis_integer\u001b[0m\u001b[0;34m(\u001b[0m\u001b[0mindexer\u001b[0m\u001b[0;34m)\u001b[0m\u001b[0;34m:\u001b[0m\u001b[0;34m\u001b[0m\u001b[0;34m\u001b[0m\u001b[0m\n\u001b[1;32m   2908\u001b[0m                 \u001b[0mindexer\u001b[0m \u001b[0;34m=\u001b[0m \u001b[0;34m[\u001b[0m\u001b[0mindexer\u001b[0m\u001b[0;34m]\u001b[0m\u001b[0;34m\u001b[0m\u001b[0;34m\u001b[0m\u001b[0m\n",
      "\u001b[0;32m/usr/local/lib/python3.6/dist-packages/pandas/core/indexes/base.py\u001b[0m in \u001b[0;36mget_loc\u001b[0;34m(self, key, method, tolerance)\u001b[0m\n\u001b[1;32m   2898\u001b[0m                 \u001b[0;32mreturn\u001b[0m \u001b[0mself\u001b[0m\u001b[0;34m.\u001b[0m\u001b[0m_engine\u001b[0m\u001b[0;34m.\u001b[0m\u001b[0mget_loc\u001b[0m\u001b[0;34m(\u001b[0m\u001b[0mcasted_key\u001b[0m\u001b[0;34m)\u001b[0m\u001b[0;34m\u001b[0m\u001b[0;34m\u001b[0m\u001b[0m\n\u001b[1;32m   2899\u001b[0m             \u001b[0;32mexcept\u001b[0m \u001b[0mKeyError\u001b[0m \u001b[0;32mas\u001b[0m \u001b[0merr\u001b[0m\u001b[0;34m:\u001b[0m\u001b[0;34m\u001b[0m\u001b[0;34m\u001b[0m\u001b[0m\n\u001b[0;32m-> 2900\u001b[0;31m                 \u001b[0;32mraise\u001b[0m \u001b[0mKeyError\u001b[0m\u001b[0;34m(\u001b[0m\u001b[0mkey\u001b[0m\u001b[0;34m)\u001b[0m \u001b[0;32mfrom\u001b[0m \u001b[0merr\u001b[0m\u001b[0;34m\u001b[0m\u001b[0;34m\u001b[0m\u001b[0m\n\u001b[0m\u001b[1;32m   2901\u001b[0m \u001b[0;34m\u001b[0m\u001b[0m\n\u001b[1;32m   2902\u001b[0m         \u001b[0;32mif\u001b[0m \u001b[0mtolerance\u001b[0m \u001b[0;32mis\u001b[0m \u001b[0;32mnot\u001b[0m \u001b[0;32mNone\u001b[0m\u001b[0;34m:\u001b[0m\u001b[0;34m\u001b[0m\u001b[0;34m\u001b[0m\u001b[0m\n",
      "\u001b[0;31mKeyError\u001b[0m: 0"
     ]
    }
   ],
   "source": [
    "df_128_30[0]"
   ]
  },
  {
   "cell_type": "code",
   "execution_count": null,
   "metadata": {
    "id": "ZGuHfZXfHPdx"
   },
   "outputs": [],
   "source": [
    "df_128_30 = pd.DataFrame(df_diff_30)"
   ]
  },
  {
   "cell_type": "code",
   "execution_count": null,
   "metadata": {
    "id": "Wky0QtsXHPdx"
   },
   "outputs": [],
   "source": [
    "x, y = df_128_30['0'], df_128_30['1']"
   ]
  },
  {
   "cell_type": "code",
   "execution_count": 47,
   "metadata": {
    "id": "2CgtZclIAGxq"
   },
   "outputs": [],
   "source": [
    "x, y = df['0'], df['1']"
   ]
  },
  {
   "cell_type": "code",
   "execution_count": 49,
   "metadata": {
    "colab": {
     "base_uri": "https://localhost:8080/"
    },
    "id": "MdofDjIt1_W7",
    "outputId": "a752903a-0a72-476b-959b-24d250369aa1"
   },
   "outputs": [
    {
     "data": {
      "text/plain": [
       "0          116.327817\n",
       "1          116.327583\n",
       "2          116.327567\n",
       "3          116.327500\n",
       "4          116.327417\n",
       "              ...    \n",
       "1110818    116.410697\n",
       "1110819    116.410728\n",
       "1110820    116.410753\n",
       "1110821    116.410745\n",
       "1110822    116.410732\n",
       "Name: 1, Length: 1110823, dtype: float64"
      ]
     },
     "execution_count": 49,
     "metadata": {
      "tags": []
     },
     "output_type": "execute_result"
    }
   ],
   "source": [
    "y"
   ]
  },
  {
   "cell_type": "markdown",
   "metadata": {
    "id": "9_qBlKkvHPdx"
   },
   "source": [
    "# 모델 학습 데이터 준비\n",
    "    x, y 차원을 맞추는 것이 어려운 점이었음\n",
    "    lstm 모델 2개를 활용해서 한 차원 당 1개의 모델을 사용하도록 하였음.\n",
    "    "
   ]
  },
  {
   "cell_type": "code",
   "execution_count": 50,
   "metadata": {
    "id": "nyhj4QsnHPdx"
   },
   "outputs": [],
   "source": [
    "import random\n",
    "import numpy as np\n",
    "import torch\n",
    "\n",
    "# multivariate data preparation\n",
    "from numpy import array\n",
    "from numpy import hstack\n",
    " \n",
    "# split a multivariate sequence into samples\n",
    "def split_sequences(sequences, n_steps):\n",
    "    X, y = list(), list()\n",
    "    for i in range(len(sequences)-n_steps):\n",
    "        # find the end of this pattern\n",
    "        end_ix = i + n_steps\n",
    "        # check if we are beyond the dataset\n",
    "        if end_ix > len(sequences):\n",
    "            break\n",
    "        # gather input and output parts of the pattern\n",
    "        seq_x, seq_y = sequences[i:end_ix, :-2], sequences[end_ix, -2:]\n",
    "        X.append(seq_x)\n",
    "        y.append(seq_y)\n",
    "    return array(X), array(y)\n",
    " \n",
    "# x, y\n",
    "# define input sequence\n",
    "in_seq1 = x.values\n",
    "in_seq2 = y.values\n",
    "#out_seq = np.array([in_seq1[i]+in_seq2[i] for i in range(len(in_seq1))])\n",
    "# convert to [rows, columns] structure\n",
    "in_seq1 = in_seq1.reshape((len(in_seq1), 1))\n",
    "in_seq2 = in_seq2.reshape((len(in_seq2), 1))\n",
    "#out_seq = out_seq.reshape((len(out_seq), 1))\n",
    "# horizontally stack columns\n",
    "dataset = hstack((in_seq1, in_seq2, in_seq1, in_seq2))"
   ]
  },
  {
   "cell_type": "code",
   "execution_count": 51,
   "metadata": {
    "id": "xtp9J4geHPdy"
   },
   "outputs": [],
   "source": [
    "df = split_sequences(dataset, 5)"
   ]
  },
  {
   "cell_type": "code",
   "execution_count": 52,
   "metadata": {
    "colab": {
     "base_uri": "https://localhost:8080/"
    },
    "id": "lnVzvQd4HPdy",
    "outputId": "96b4dd70-1060-442c-ebad-c4fa8c26044c"
   },
   "outputs": [
    {
     "data": {
      "text/plain": [
       "(array([[[ 40.07585   , 116.32781667],\n",
       "         [ 40.07583333, 116.32758333],\n",
       "         [ 40.076     , 116.32756667],\n",
       "         [ 40.0763    , 116.3275    ],\n",
       "         [ 40.0766    , 116.32741667]],\n",
       " \n",
       "        [[ 40.07583333, 116.32758333],\n",
       "         [ 40.076     , 116.32756667],\n",
       "         [ 40.0763    , 116.3275    ],\n",
       "         [ 40.0766    , 116.32741667],\n",
       "         [ 40.07686667, 116.32736667]],\n",
       " \n",
       "        [[ 40.076     , 116.32756667],\n",
       "         [ 40.0763    , 116.3275    ],\n",
       "         [ 40.0766    , 116.32741667],\n",
       "         [ 40.07686667, 116.32736667],\n",
       "         [ 40.07706667, 116.32733333]],\n",
       " \n",
       "        ...,\n",
       " \n",
       "        [[ 39.9358249 , 116.4107033 ],\n",
       "         [ 39.9357566 , 116.4106783 ],\n",
       "         [ 39.9357349 , 116.4106799 ],\n",
       "         [ 39.9357349 , 116.4106966 ],\n",
       "         [ 39.9357683 , 116.4107283 ]],\n",
       " \n",
       "        [[ 39.9357566 , 116.4106783 ],\n",
       "         [ 39.9357349 , 116.4106799 ],\n",
       "         [ 39.9357349 , 116.4106966 ],\n",
       "         [ 39.9357683 , 116.4107283 ],\n",
       "         [ 39.9358216 , 116.4107533 ]],\n",
       " \n",
       "        [[ 39.9357349 , 116.4106799 ],\n",
       "         [ 39.9357349 , 116.4106966 ],\n",
       "         [ 39.9357683 , 116.4107283 ],\n",
       "         [ 39.9358216 , 116.4107533 ],\n",
       "         [ 39.9358633 , 116.4107449 ]]]), array([[ 40.07686667, 116.32736667],\n",
       "        [ 40.07706667, 116.32733333],\n",
       "        [ 40.07723333, 116.32726667],\n",
       "        ...,\n",
       "        [ 39.9358216 , 116.4107533 ],\n",
       "        [ 39.9358633 , 116.4107449 ],\n",
       "        [ 39.9358933 , 116.4107316 ]]))"
      ]
     },
     "execution_count": 52,
     "metadata": {
      "tags": []
     },
     "output_type": "execute_result"
    }
   ],
   "source": [
    "df"
   ]
  },
  {
   "cell_type": "markdown",
   "metadata": {
    "id": "bWJ4rr3EHPdy"
   },
   "source": [
    "# GRU 모델 학습"
   ]
  },
  {
   "cell_type": "code",
   "execution_count": 53,
   "metadata": {
    "id": "uSZ_WYjHOBaw"
   },
   "outputs": [],
   "source": [
    "cuda0 = torch.device('cuda:0')"
   ]
  },
  {
   "cell_type": "code",
   "execution_count": 11,
   "metadata": {
    "id": "dKNaodryXRbc"
   },
   "outputs": [],
   "source": [
    "import torch"
   ]
  },
  {
   "cell_type": "code",
   "execution_count": 54,
   "metadata": {
    "id": "vIa1PMEBHPdy"
   },
   "outputs": [],
   "source": [
    "class MV_GRU(torch.nn.Module):\n",
    "    def __init__(self,n_features,seq_length):\n",
    "        super(MV_GRU, self).__init__()\n",
    "        self.n_features = n_features\n",
    "        self.seq_len = seq_length\n",
    "        self.n_hidden = 100 # number of hidden states\n",
    "        self.n_layers = 300 # number of LSTM layers (stacked)\n",
    "    \n",
    "        self.l_lstm = torch.nn.GRU(input_size = n_features, \n",
    "                                 hidden_size = self.n_hidden,\n",
    "                                 num_layers = self.n_layers, \n",
    "                                batch_first = True,\n",
    "                                dropout=0.1).to(device=cuda0)\n",
    "        # according to pytorch docs LSTM output is \n",
    "        # (batch_size,seq_len, num_directions * hidden_size)\n",
    "        # when considering batch_first = True\n",
    "        self.l_linear = torch.nn.Linear(self.n_hidden*self.seq_len, 1).to(device=cuda0)\n",
    "        self.relu = torch.nn.ReLU()\n",
    "    \n",
    "    def init_hidden(self, batch_size):\n",
    "        # even with batch_first = True this remains same as docs\n",
    "        hidden_state = torch.zeros(self.n_layers,batch_size, self.n_hidden, device = cuda0)\n",
    "#        cell_state = torch.zeros(self.n_layers,batch_size, self.n_hidden, device = cuda0)\n",
    "        self.hidden = (hidden_state)\n",
    "    \n",
    "    \n",
    "    def forward(self, x):\n",
    "        batch_size, seq_len, _ = x.size()\n",
    "        \n",
    "        lstm_out, self.hidden = self.l_lstm(x, self.hidden)\n",
    "        lstm_out = self.relu(lstm_out)\n",
    "        # lstm_out(with batch_first = True) is \n",
    "        # (batch_size,seq_len,num_directions * hidden_size)\n",
    "        # for following linear layer we want to keep batch_size dimension and merge rest       \n",
    "        # .contiguous() -> solves tensor compatibility error\n",
    "        x = lstm_out.contiguous().view(batch_size,-1)\n",
    "        return self.l_linear(x)"
   ]
  },
  {
   "cell_type": "code",
   "execution_count": 21,
   "metadata": {
    "id": "ijP5DBC6x9T8"
   },
   "outputs": [],
   "source": [
    "import torch\n",
    "class GRUNet(torch.nn.Module):\n",
    "    def __init__(self, input_dim = 5, hidden_dim = 100, output_dim = 1, n_layers = 50, drop_prob=0.2):\n",
    "        super(GRUNet, self).__init__()\n",
    "        self.hidden_dim = hidden_dim\n",
    "        self.n_layers = n_layers\n",
    "        \n",
    "        self.gru = torch.nn.GRU(input_dim, hidden_dim, n_layers, batch_first=True, dropout=drop_prob)\n",
    "        self.fc = torch.nn.Linear(hidden_dim, output_dim)\n",
    "        self.relu = torch.nn.ReLU()\n",
    "        \n",
    "    def forward(self, x, h):\n",
    "        out, h = self.gru(x, h)\n",
    "        out = self.fc(self.relu(out[:,-1]))\n",
    "        return out, h\n",
    "    \n",
    "    def init_hidden(self, batch_size):\n",
    "        weight = next(self.parameters()).data\n",
    "        hidden = weight.new(self.n_layers, batch_size, self.hidden_dim).zero_().to(device= cuda0)\n",
    "        return hidden"
   ]
  },
  {
   "cell_type": "code",
   "execution_count": 37,
   "metadata": {
    "id": "oZnWfHhmLX0N"
   },
   "outputs": [],
   "source": [
    "mv_net_test = MV_GRU(n_features, n_timesteps)"
   ]
  },
  {
   "cell_type": "code",
   "execution_count": null,
   "metadata": {
    "id": "Rz9uAc25LYgM"
   },
   "outputs": [],
   "source": [
    "mv_net_test.n_layers\n",
    "mv_net_test.n_hidden"
   ]
  },
  {
   "cell_type": "code",
   "execution_count": 55,
   "metadata": {
    "colab": {
     "base_uri": "https://localhost:8080/"
    },
    "id": "RhCBQdExHPdz",
    "outputId": "16bf4996-64b4-42a3-c8ce-bb956a243662"
   },
   "outputs": [
    {
     "name": "stdout",
     "output_type": "stream",
     "text": [
      "(1110818, 5, 2) (1110818, 2)\n"
     ]
    }
   ],
   "source": [
    "n_features = 1 # this is number of parallel inputs\n",
    "n_timesteps = 5 # this is number of timesteps\n",
    "\n",
    "# convert dataset into input/output\n",
    "X, y = split_sequences(dataset, n_timesteps)\n",
    "print(X.shape, y.shape)\n",
    "\n",
    "# create NN\n",
    "mv_net_x = MV_GRU(n_features, n_timesteps)\n",
    "mv_net_y = MV_GRU(n_features, n_timesteps)\n",
    "#criterion = torch.nn.MSELoss().to(device=cuda0)\n",
    "criterion = torch.nn.L1Loss().to(device=cuda0)\n",
    " # reduction='sum' created huge loss value\n",
    "optimizer_x = torch.optim.Adam(mv_net_x.parameters(), lr=1e-1)\n",
    "optimizer_y = torch.optim.Adam(mv_net_y.parameters(), lr=1e-1)\n",
    "\n",
    "# MV_GRU(n_features, n_timesteps) # n_hidden, n_layers\n",
    "mv_net_test = MV_GRU(n_features, n_timesteps)\n",
    "layer = mv_net_test.n_layers\n",
    "hidden = mv_net_test.n_hidden\n",
    "\n",
    "train_episodes = 30\n",
    "batch_size = 50"
   ]
  },
  {
   "cell_type": "code",
   "execution_count": null,
   "metadata": {
    "colab": {
     "base_uri": "https://localhost:8080/"
    },
    "id": "G6Y0pnrIHPdz",
    "outputId": "39a69682-75dc-45ad-e5da-90e0b481585a"
   },
   "outputs": [
    {
     "data": {
      "text/plain": [
       "numpy.ndarray"
      ]
     },
     "execution_count": 21,
     "metadata": {
      "tags": []
     },
     "output_type": "execute_result"
    }
   ],
   "source": [
    "type(X) \n",
    "# 여기서 타입 에러가 발생했음 # float 타입으로 결과를 만들어야 했는데\n",
    "# 위에서 string 타입으로 데이터 프레임을 만들어내서 문제가 발생"
   ]
  },
  {
   "cell_type": "code",
   "execution_count": null,
   "metadata": {
    "colab": {
     "base_uri": "https://localhost:8080/"
    },
    "id": "_fqxuIfbHPd0",
    "outputId": "3425614a-fde2-4641-e9a1-ae0d900de4d5"
   },
   "outputs": [
    {
     "data": {
      "text/plain": [
       "array([[[ 40.07585   , 116.32781667],\n",
       "        [ 40.07648333, 116.32183333],\n",
       "        [ 40.05101667, 116.32388333],\n",
       "        [ 40.0469    , 116.32068333],\n",
       "        [ 40.04026667, 116.32583333]],\n",
       "\n",
       "       [[ 40.07648333, 116.32183333],\n",
       "        [ 40.05101667, 116.32388333],\n",
       "        [ 40.0469    , 116.32068333],\n",
       "        [ 40.04026667, 116.32583333],\n",
       "        [ 40.03626667, 116.31031667]],\n",
       "\n",
       "       [[ 40.05101667, 116.32388333],\n",
       "        [ 40.0469    , 116.32068333],\n",
       "        [ 40.04026667, 116.32583333],\n",
       "        [ 40.03626667, 116.31031667],\n",
       "        [ 40.01473333, 116.31171667]],\n",
       "\n",
       "       ...,\n",
       "\n",
       "       [[ 39.9705499 , 116.4605233 ],\n",
       "        [ 39.9647216 , 116.464055  ],\n",
       "        [ 39.98799   , 116.4282633 ],\n",
       "        [ 39.9872383 , 116.4025066 ],\n",
       "        [ 39.986165  , 116.3647599 ]],\n",
       "\n",
       "       [[ 39.9647216 , 116.464055  ],\n",
       "        [ 39.98799   , 116.4282633 ],\n",
       "        [ 39.9872383 , 116.4025066 ],\n",
       "        [ 39.986165  , 116.3647599 ],\n",
       "        [ 39.9852083 , 116.3309099 ]],\n",
       "\n",
       "       [[ 39.98799   , 116.4282633 ],\n",
       "        [ 39.9872383 , 116.4025066 ],\n",
       "        [ 39.986165  , 116.3647599 ],\n",
       "        [ 39.9852083 , 116.3309099 ],\n",
       "        [ 39.9799016 , 116.3273333 ]]])"
      ]
     },
     "execution_count": 22,
     "metadata": {
      "tags": []
     },
     "output_type": "execute_result"
    }
   ],
   "source": [
    "X"
   ]
  },
  {
   "cell_type": "markdown",
   "metadata": {
    "id": "UlJ5BybsHPd0"
   },
   "source": [
    "# 여기서도 어려웠던 점\n",
    "    인풋 사이즈를 맞춰줘야 하는데 그 자체가 코드를 모두 이해하여야 했기에 엄청난 어려움이 있었다.\n",
    "    ★시계열 데이터이기 때문에 마지막 배치의 경우에 문제가 존재했음 -> 이 부분을 처리하는 것이 중요!\n",
    "    텐서 자체에서 문제가 존재했고, 데이터를 텐서로 변환하는 과정에서 소수점의 사라짐이 존재하게 되었음 이러한 문제점을 해결하는 방법은?\n"
   ]
  },
  {
   "cell_type": "code",
   "execution_count": null,
   "metadata": {
    "colab": {
     "background_save": true
    },
    "id": "glZ0qyI_JCYC",
    "outputId": "9d8e1934-07e7-423f-b87e-7d22784d3d47"
   },
   "outputs": [
    {
     "name": "stdout",
     "output_type": "stream",
     "text": [
      "1\n"
     ]
    }
   ],
   "source": [
    "import torch\n",
    "print(torch.cuda.device_count())"
   ]
  },
  {
   "cell_type": "code",
   "execution_count": 16,
   "metadata": {
    "id": "bKUSd8pyHPd0"
   },
   "outputs": [],
   "source": [
    "cuda0 = torch.device('cuda:0')"
   ]
  },
  {
   "cell_type": "code",
   "execution_count": null,
   "metadata": {
    "colab": {
     "background_save": true
    },
    "id": "JhsnMU-CgapM",
    "outputId": "ed93488f-1a99-46a3-fea5-93ea6f6743d2"
   },
   "outputs": [
    {
     "data": {
      "text/plain": [
       "device(type='cuda', index=0)"
      ]
     },
     "execution_count": 0,
     "metadata": {
      "tags": []
     },
     "output_type": "execute_result"
    }
   ],
   "source": [
    "cuda0"
   ]
  },
  {
   "cell_type": "code",
   "execution_count": null,
   "metadata": {
    "colab": {
     "background_save": true
    },
    "id": "6PhijH-ogebv",
    "outputId": "68c285dc-967d-4981-8e1c-bd3f33b3b3b4"
   },
   "outputs": [
    {
     "name": "stdout",
     "output_type": "stream",
     "text": [
      "Tesla P100-PCIE-16GB\n"
     ]
    }
   ],
   "source": [
    "print(torch.cuda.get_device_name(0))"
   ]
  },
  {
   "cell_type": "code",
   "execution_count": null,
   "metadata": {
    "colab": {
     "background_save": true
    },
    "id": "N0bXNJPNHPd0",
    "outputId": "6b260453-458b-40d6-fea5-b4e768abbca8"
   },
   "outputs": [
    {
     "ename": "NameError",
     "evalue": "ignored",
     "output_type": "error",
     "traceback": [
      "\u001b[0;31m---------------------------------------------------------------------------\u001b[0m",
      "\u001b[0;31mNameError\u001b[0m                                 Traceback (most recent call last)",
      "\u001b[0;32m<ipython-input-5-3d861059fa55>\u001b[0m in \u001b[0;36m<module>\u001b[0;34m()\u001b[0m\n\u001b[0;32m----> 1\u001b[0;31m \u001b[0my\u001b[0m\u001b[0;34m.\u001b[0m\u001b[0mshape\u001b[0m\u001b[0;34m\u001b[0m\u001b[0;34m\u001b[0m\u001b[0m\n\u001b[0m",
      "\u001b[0;31mNameError\u001b[0m: name 'y' is not defined"
     ]
    }
   ],
   "source": [
    "y.shape"
   ]
  },
  {
   "cell_type": "code",
   "execution_count": null,
   "metadata": {
    "colab": {
     "background_save": true
    },
    "id": "gbn5LgAis4r_"
   },
   "outputs": [],
   "source": [
    "import torch\n",
    "torch.cuda.is_available()"
   ]
  },
  {
   "cell_type": "code",
   "execution_count": 19,
   "metadata": {
    "id": "9qVnGi52GdI5"
   },
   "outputs": [],
   "source": [
    "torch.set_printoptions(precision=10)"
   ]
  },
  {
   "cell_type": "code",
   "execution_count": 34,
   "metadata": {
    "colab": {
     "base_uri": "https://localhost:8080/"
    },
    "id": "NFmz1qKrKaz8",
    "outputId": "984fd7d6-3694-4dca-94fe-5c54f8e9b37d"
   },
   "outputs": [
    {
     "name": "stdout",
     "output_type": "stream",
     "text": [
      "Mounted at /content/drive\n"
     ]
    }
   ],
   "source": [
    "from google.colab import drive\n",
    "drive.mount('/content/drive')"
   ]
  },
  {
   "cell_type": "code",
   "execution_count": 35,
   "metadata": {
    "colab": {
     "base_uri": "https://localhost:8080/"
    },
    "id": "-F4bl45FKjQ2",
    "outputId": "10540f5e-cdf3-4a74-dca3-2946706d3ecc"
   },
   "outputs": [
    {
     "name": "stdout",
     "output_type": "stream",
     "text": [
      "\u001b[0m\u001b[01;34mdrive\u001b[0m/  \u001b[01;34msample_data\u001b[0m/  sorted_128_last_1000.csv\n"
     ]
    }
   ],
   "source": [
    "ls"
   ]
  },
  {
   "cell_type": "code",
   "execution_count": 36,
   "metadata": {
    "colab": {
     "base_uri": "https://localhost:8080/"
    },
    "id": "Zw5KmvRjKecD",
    "outputId": "08a388b6-31ea-4c02-abec-093f9db04d72"
   },
   "outputs": [
    {
     "name": "stdout",
     "output_type": "stream",
     "text": [
      "/content/drive/MyDrive/DeepLearning_14Team\n"
     ]
    }
   ],
   "source": [
    "cd drive/MyDrive/DeepLearning_14Team"
   ]
  },
  {
   "cell_type": "code",
   "execution_count": null,
   "metadata": {
    "id": "J8NQJdXDHPd1"
   },
   "outputs": [],
   "source": [
    "mv_net_x.train()\n",
    "mv_net_y.train()\n",
    "\n",
    "for t in range(train_episodes):\n",
    "    for b in range(0,len(X),batch_size):\n",
    "        inpt = X[b:b+batch_size,:,:]\n",
    "        target = y[b:b+batch_size]\n",
    "\n",
    "        # x, y 트레인셋\n",
    "        x_batch = torch.tensor(inpt[:,:,0],dtype=torch.float32, device = cuda0) # 텐서로 바꾸면서\n",
    "        y_batch = torch.tensor(inpt[:,:,1],dtype=torch.float32, device = cuda0)\n",
    "        \n",
    "        if x_batch.shape == (batch_size,n_timesteps):\n",
    "            x_batch = x_batch.reshape(batch_size,n_timesteps,1) # 3 채널로 맞춰줘야 함\n",
    "            y_batch = y_batch.reshape(batch_size,n_timesteps,1)\n",
    "\n",
    "            mv_net_x.init_hidden(x_batch.size(0))\n",
    "            mv_net_y.init_hidden(y_batch.size(0))\n",
    "\n",
    "            # x,y의 예측 값\n",
    "            output_x = mv_net_x(x_batch)\n",
    "            output_y = mv_net_y(y_batch)\n",
    "\n",
    "            # x,y의 정답\n",
    "            target_x_batch = torch.tensor(target[:, 0],dtype=torch.float32, device = cuda0)\n",
    "            target_y_batch = torch.tensor(target[:, 1],dtype=torch.float32, device = cuda0)\n",
    "\n",
    "\n",
    "        #    lstm_out, _ = mv_net.l_lstm(x_batch,nnet.hidden)    \n",
    "        #    lstm_out.contiguous().view(x_batch.size(0),-1)\n",
    "\n",
    "            # loss function이 두개의 합이 최소가 되는 쪽으로 loss를 구함\n",
    "            loss = criterion(output_x.view(-1), target_x_batch) + criterion(output_y.view(-1), target_y_batch)\n",
    "            loss.backward()\n",
    "\n",
    "            optimizer_x.step()        \n",
    "            optimizer_x.zero_grad() # x가 0으로 흐르도록 함\n",
    "\n",
    "            optimizer_y.step()\n",
    "            optimizer_y.zero_grad() # y가 0으로 흐르도록 함\n",
    "    # 추가 정보\n",
    "\n",
    "    PATH = \"gru_checkpoint/GRU + MAE episode : {}, batch_size : {}, layer : {}, hidden : {}, epoch : {}, loss : {}\".format(train_episodes,batch_size,layer,hidden, t, loss.items()) + \".pt\"\n",
    "    torch.save({\n",
    "            'epoch': t,\n",
    "            'model_state_dict': mv_net_x.state_dict(),\n",
    "            'optimizer_state_dict': optimizer_x.state_dict(),\n",
    "            'loss': loss,\n",
    "            }, PATH)\n",
    "    torch.save({\n",
    "            'epoch': t,\n",
    "            'model_state_dict': mv_net_x.state_dict(),\n",
    "            'optimizer_state_dict': optimizer_y.state_dict(),\n",
    "            'loss': loss,\n",
    "            }, PATH)\n",
    "    print('step : ' , t , 'loss : ' , loss.item())"
   ]
  },
  {
   "cell_type": "code",
   "execution_count": null,
   "metadata": {
    "id": "jciMWv3iQ1LY"
   },
   "outputs": [],
   "source": [
    "https://blog.floydhub.com/gru-with-pytorch/"
   ]
  }
 ],
 "metadata": {
  "accelerator": "GPU",
  "colab": {
   "collapsed_sections": [],
   "name": "gru+128+위치만.ipynb",
   "provenance": []
  },
  "kernelspec": {
   "display_name": "Python 3",
   "language": "python",
   "name": "python3"
  },
  "language_info": {
   "codemirror_mode": {
    "name": "ipython",
    "version": 3
   },
   "file_extension": ".py",
   "mimetype": "text/x-python",
   "name": "python",
   "nbconvert_exporter": "python",
   "pygments_lexer": "ipython3",
   "version": "3.7.6"
  }
 },
 "nbformat": 4,
 "nbformat_minor": 1
}
