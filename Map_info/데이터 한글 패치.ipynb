{
 "cells": [
  {
   "cell_type": "code",
   "execution_count": 23,
   "metadata": {},
   "outputs": [],
   "source": [
    "import pandas as pd\n",
    "df = pd.read_csv('sorted_128_100_hangeul.csv')"
   ]
  },
  {
   "cell_type": "code",
   "execution_count": 45,
   "metadata": {},
   "outputs": [
    {
     "data": {
      "text/html": [
       "<div>\n",
       "<style scoped>\n",
       "    .dataframe tbody tr th:only-of-type {\n",
       "        vertical-align: middle;\n",
       "    }\n",
       "\n",
       "    .dataframe tbody tr th {\n",
       "        vertical-align: top;\n",
       "    }\n",
       "\n",
       "    .dataframe thead th {\n",
       "        text-align: right;\n",
       "    }\n",
       "</style>\n",
       "<table border=\"1\" class=\"dataframe\">\n",
       "  <thead>\n",
       "    <tr style=\"text-align: right;\">\n",
       "      <th></th>\n",
       "      <th>Unnamed: 0</th>\n",
       "      <th>Unnamed: 0.1</th>\n",
       "      <th>0</th>\n",
       "      <th>1</th>\n",
       "      <th>2</th>\n",
       "      <th>3</th>\n",
       "      <th>4</th>\n",
       "    </tr>\n",
       "  </thead>\n",
       "  <tbody>\n",
       "    <tr>\n",
       "      <th>0</th>\n",
       "      <td>0</td>\n",
       "      <td>0</td>\n",
       "      <td>40.075850</td>\n",
       "      <td>116.327817</td>\n",
       "      <td>2007-04-14</td>\n",
       "      <td>00:56:28</td>\n",
       "      <td>Unnamed Road, Changping Qu, Beijing Shi, 중국</td>\n",
       "    </tr>\n",
       "    <tr>\n",
       "      <th>1</th>\n",
       "      <td>1</td>\n",
       "      <td>1</td>\n",
       "      <td>40.075833</td>\n",
       "      <td>116.327583</td>\n",
       "      <td>2007-04-14</td>\n",
       "      <td>00:56:46</td>\n",
       "      <td>0</td>\n",
       "    </tr>\n",
       "    <tr>\n",
       "      <th>2</th>\n",
       "      <td>2</td>\n",
       "      <td>2</td>\n",
       "      <td>40.076000</td>\n",
       "      <td>116.327567</td>\n",
       "      <td>2007-04-14</td>\n",
       "      <td>00:59:24</td>\n",
       "      <td>0</td>\n",
       "    </tr>\n",
       "    <tr>\n",
       "      <th>3</th>\n",
       "      <td>3</td>\n",
       "      <td>3</td>\n",
       "      <td>40.076300</td>\n",
       "      <td>116.327500</td>\n",
       "      <td>2007-04-14</td>\n",
       "      <td>00:59:50</td>\n",
       "      <td>0</td>\n",
       "    </tr>\n",
       "    <tr>\n",
       "      <th>4</th>\n",
       "      <td>4</td>\n",
       "      <td>4</td>\n",
       "      <td>40.076600</td>\n",
       "      <td>116.327417</td>\n",
       "      <td>2007-04-14</td>\n",
       "      <td>01:00:15</td>\n",
       "      <td>0</td>\n",
       "    </tr>\n",
       "    <tr>\n",
       "      <th>...</th>\n",
       "      <td>...</td>\n",
       "      <td>...</td>\n",
       "      <td>...</td>\n",
       "      <td>...</td>\n",
       "      <td>...</td>\n",
       "      <td>...</td>\n",
       "      <td>...</td>\n",
       "    </tr>\n",
       "    <tr>\n",
       "      <th>35664</th>\n",
       "      <td>35664</td>\n",
       "      <td>35664</td>\n",
       "      <td>32.971538</td>\n",
       "      <td>114.014140</td>\n",
       "      <td>2008-05-05</td>\n",
       "      <td>13:38:42</td>\n",
       "      <td>0</td>\n",
       "    </tr>\n",
       "    <tr>\n",
       "      <th>35665</th>\n",
       "      <td>35665</td>\n",
       "      <td>35665</td>\n",
       "      <td>32.971515</td>\n",
       "      <td>114.014148</td>\n",
       "      <td>2008-05-05</td>\n",
       "      <td>13:38:44</td>\n",
       "      <td>0</td>\n",
       "    </tr>\n",
       "    <tr>\n",
       "      <th>35666</th>\n",
       "      <td>35666</td>\n",
       "      <td>35666</td>\n",
       "      <td>32.971455</td>\n",
       "      <td>114.014140</td>\n",
       "      <td>2008-05-05</td>\n",
       "      <td>13:38:46</td>\n",
       "      <td>중국 Henan Sheng, Zhumadian Shi, Yicheng Qu, Jia...</td>\n",
       "    </tr>\n",
       "    <tr>\n",
       "      <th>35667</th>\n",
       "      <td>35667</td>\n",
       "      <td>35667</td>\n",
       "      <td>32.971410</td>\n",
       "      <td>114.014190</td>\n",
       "      <td>2008-05-05</td>\n",
       "      <td>13:38:49</td>\n",
       "      <td>0</td>\n",
       "    </tr>\n",
       "    <tr>\n",
       "      <th>35668</th>\n",
       "      <td>35668</td>\n",
       "      <td>35668</td>\n",
       "      <td>32.971172</td>\n",
       "      <td>114.014120</td>\n",
       "      <td>2008-05-05</td>\n",
       "      <td>13:38:55</td>\n",
       "      <td>0</td>\n",
       "    </tr>\n",
       "  </tbody>\n",
       "</table>\n",
       "<p>35669 rows × 7 columns</p>\n",
       "</div>"
      ],
      "text/plain": [
       "       Unnamed: 0  Unnamed: 0.1          0           1           2         3  \\\n",
       "0               0             0  40.075850  116.327817  2007-04-14  00:56:28   \n",
       "1               1             1  40.075833  116.327583  2007-04-14  00:56:46   \n",
       "2               2             2  40.076000  116.327567  2007-04-14  00:59:24   \n",
       "3               3             3  40.076300  116.327500  2007-04-14  00:59:50   \n",
       "4               4             4  40.076600  116.327417  2007-04-14  01:00:15   \n",
       "...           ...           ...        ...         ...         ...       ...   \n",
       "35664       35664         35664  32.971538  114.014140  2008-05-05  13:38:42   \n",
       "35665       35665         35665  32.971515  114.014148  2008-05-05  13:38:44   \n",
       "35666       35666         35666  32.971455  114.014140  2008-05-05  13:38:46   \n",
       "35667       35667         35667  32.971410  114.014190  2008-05-05  13:38:49   \n",
       "35668       35668         35668  32.971172  114.014120  2008-05-05  13:38:55   \n",
       "\n",
       "                                                       4  \n",
       "0            Unnamed Road, Changping Qu, Beijing Shi, 중국  \n",
       "1                                                      0  \n",
       "2                                                      0  \n",
       "3                                                      0  \n",
       "4                                                      0  \n",
       "...                                                  ...  \n",
       "35664                                                  0  \n",
       "35665                                                  0  \n",
       "35666  중국 Henan Sheng, Zhumadian Shi, Yicheng Qu, Jia...  \n",
       "35667                                                  0  \n",
       "35668                                                  0  \n",
       "\n",
       "[35669 rows x 7 columns]"
      ]
     },
     "execution_count": 45,
     "metadata": {},
     "output_type": "execute_result"
    }
   ],
   "source": [
    "df"
   ]
  },
  {
   "cell_type": "code",
   "execution_count": 33,
   "metadata": {},
   "outputs": [],
   "source": [
    "df_name = pd.read_csv('data추출.csv', encoding = 'cp949')"
   ]
  },
  {
   "cell_type": "code",
   "execution_count": 35,
   "metadata": {},
   "outputs": [
    {
     "name": "stdout",
     "output_type": "stream",
     "text": [
      "용등원 상가\n",
      "묘봉산 진간구촌\n",
      "묘봉산\n",
      "묘봉산\n",
      "용봉령 재배단지\n",
      "팔달령 고속 출구\n",
      "팔달령 \n",
      "숙소\n",
      "회룡관룡화원\n",
      "톨게이트???\n",
      "중해실업빌딩\n",
      "향북원\n",
      "항주서호풍경명승지구\n",
      "향산공원\n",
      "겐상차오둥\n",
      "중화민족원\n",
      "화교 아파트\n",
      "베이징 항공 우주대학\n",
      "공항 기숙사\n",
      "건재백화점\n",
      "건재백화점\n",
      "용등원\n",
      "용화원\n",
      "항공우주대학\n",
      "4만 류억성 센터\n",
      "취궁호텔\n",
      "화성빌딩\n",
      "세모빌딩\n",
      "이조 커뮤니티\n",
      "성금가원\n",
      "근공주분역\n",
      "공원\n",
      "중신가원저상\n",
      "자오위안 공원\n"
     ]
    }
   ],
   "source": [
    "for i in range(1, 35):\n",
    "    print(df_name['Unnamed: 2'].iloc[i])"
   ]
  },
  {
   "cell_type": "code",
   "execution_count": 42,
   "metadata": {},
   "outputs": [],
   "source": [
    "chinese_dict = {}\n",
    "for i in range(len(df_name_)):\n",
    "    chinese_dict[df_name_['중국어'].iloc[i]] = df_name['Unnamed: 2'].iloc[i+1]"
   ]
  },
  {
   "cell_type": "code",
   "execution_count": 43,
   "metadata": {},
   "outputs": [
    {
     "data": {
      "text/plain": [
       "{'龙腾苑五区2号楼7号底商': '용등원 상가',\n",
       " '近郊妙峰山镇涧沟村': '묘봉산 진간구촌',\n",
       " '近妙峰山景区': '묘봉산',\n",
       " '妙峰山': '묘봉산',\n",
       " '妙峰山镇担礼隧道向东500米龙凤岭种植园内': '용봉령 재배단지',\n",
       " '延庆区八达岭高速康庄出口': '팔달령 고속 출구',\n",
       " '八达岭特区': '팔달령 ',\n",
       " '回龙观镇龙腾苑六区32号楼4单元501室': '숙소',\n",
       " '回龙观龙华源15号楼底商': '회룡관룡화원',\n",
       " '昌平区京昌高速回龙观北出口800米': '톨게이트???',\n",
       " '中海实业大厦南侧路东': '중해실업빌딩',\n",
       " '洼里乡北苑北辰居住区d2区105号': '향북원',\n",
       " '龙井路1号杭州西湖风景名胜区内': '항주서호풍경명승지구',\n",
       " '40号香山公园内': '향산공원',\n",
       " '健翔桥东300米路南': '겐상차오둥',\n",
       " '中华民族园西侧': '중화민족원',\n",
       " '亚运村安慧里三区华侨公寓': '화교 아파트',\n",
       " '37号北京航空航天大学': '베이징 항공 우주대학',\n",
       " '机场宿舍区北4公里西白辛庄东口': '공항 기숙사',\n",
       " '文华路鑫地建材百货市场10号a': '건재백화점',\n",
       " '文华路鑫地建材百货市场9号b': '건재백화점',\n",
       " '龙腾苑三区16': '용등원',\n",
       " '回龙观西大街龙华园10号楼': '용화원',\n",
       " '航空航天大学内': '항공우주대학',\n",
       " '4万柳亿城中心c1c2座': '4만 류억성 센터',\n",
       " '翠宫饭店南侧': '취궁호텔',\n",
       " '16号华胜大厦': '화성빌딩',\n",
       " '建国路甲92号世茂大厦a座808室': '세모빌딩',\n",
       " '二条社区内': '이조 커뮤니티',\n",
       " '莲花西路盛今佳园2号楼': '성금가원',\n",
       " '近公主坟地铁站': '근공주분역',\n",
       " '莲花池路48号莲花池公园西门外': '공원',\n",
       " '中新佳园底商2号': '중신가원저상',\n",
       " '赵苑公园': '자오위안 공원',\n",
       " '卫星大厦1103': '위성 빌딩'}"
      ]
     },
     "execution_count": 43,
     "metadata": {},
     "output_type": "execute_result"
    }
   ],
   "source": [
    "chinese_dict"
   ]
  },
  {
   "cell_type": "code",
   "execution_count": 47,
   "metadata": {},
   "outputs": [],
   "source": [
    "df['5'] = 0"
   ]
  },
  {
   "cell_type": "code",
   "execution_count": 48,
   "metadata": {},
   "outputs": [],
   "source": [
    "chinese_dict_keys = chinese_dict.keys()"
   ]
  },
  {
   "cell_type": "code",
   "execution_count": 52,
   "metadata": {},
   "outputs": [],
   "source": [
    "chinese_dict_keys_ = list(chinese_dict_keys)"
   ]
  },
  {
   "cell_type": "code",
   "execution_count": 53,
   "metadata": {},
   "outputs": [
    {
     "data": {
      "text/plain": [
       "['龙腾苑五区2号楼7号底商',\n",
       " '近郊妙峰山镇涧沟村',\n",
       " '近妙峰山景区',\n",
       " '妙峰山',\n",
       " '妙峰山镇担礼隧道向东500米龙凤岭种植园内',\n",
       " '延庆区八达岭高速康庄出口',\n",
       " '八达岭特区',\n",
       " '回龙观镇龙腾苑六区32号楼4单元501室',\n",
       " '回龙观龙华源15号楼底商',\n",
       " '昌平区京昌高速回龙观北出口800米',\n",
       " '中海实业大厦南侧路东',\n",
       " '洼里乡北苑北辰居住区d2区105号',\n",
       " '龙井路1号杭州西湖风景名胜区内',\n",
       " '40号香山公园内',\n",
       " '健翔桥东300米路南',\n",
       " '中华民族园西侧',\n",
       " '亚运村安慧里三区华侨公寓',\n",
       " '37号北京航空航天大学',\n",
       " '机场宿舍区北4公里西白辛庄东口',\n",
       " '文华路鑫地建材百货市场10号a',\n",
       " '文华路鑫地建材百货市场9号b',\n",
       " '龙腾苑三区16',\n",
       " '回龙观西大街龙华园10号楼',\n",
       " '航空航天大学内',\n",
       " '4万柳亿城中心c1c2座',\n",
       " '翠宫饭店南侧',\n",
       " '16号华胜大厦',\n",
       " '建国路甲92号世茂大厦a座808室',\n",
       " '二条社区内',\n",
       " '莲花西路盛今佳园2号楼',\n",
       " '近公主坟地铁站',\n",
       " '莲花池路48号莲花池公园西门外',\n",
       " '中新佳园底商2号',\n",
       " '赵苑公园',\n",
       " '卫星大厦1103']"
      ]
     },
     "execution_count": 53,
     "metadata": {},
     "output_type": "execute_result"
    }
   ],
   "source": [
    "chinese_dict_keys_"
   ]
  },
  {
   "cell_type": "code",
   "execution_count": 54,
   "metadata": {},
   "outputs": [
    {
     "name": "stderr",
     "output_type": "stream",
     "text": [
      "C:\\Users\\SungJin\\anaconda3\\lib\\site-packages\\pandas\\core\\indexing.py:670: SettingWithCopyWarning: \n",
      "A value is trying to be set on a copy of a slice from a DataFrame\n",
      "\n",
      "See the caveats in the documentation: https://pandas.pydata.org/pandas-docs/stable/user_guide/indexing.html#returning-a-view-versus-a-copy\n",
      "  iloc._setitem_with_indexer(indexer, value)\n"
     ]
    }
   ],
   "source": [
    "for i in range(len(df)):\n",
    "    for j in range(len(chinese_dict_keys_)):\n",
    "        if chinese_dict_keys_[j] in df['4'].iloc[i]:\n",
    "            df['5'].iloc[i] = chinese_dict[chinese_dict_keys_[j]]"
   ]
  },
  {
   "cell_type": "code",
   "execution_count": 57,
   "metadata": {},
   "outputs": [
    {
     "data": {
      "text/plain": [
       "array([0, '용등원 상가', '묘봉산', '용봉령 재배단지', '팔달령 고속 출구', '팔달령 ', '숙소',\n",
       "       '회룡관룡화원', '톨게이트???', '중해실업빌딩', '항주서호풍경명승지구', '향산공원', '중화민족원',\n",
       "       '화교 아파트', '베이징 항공 우주대학', '공항 기숙사', '용등원', '용화원', '항공우주대학', '취궁호텔',\n",
       "       '화성빌딩', '이조 커뮤니티', '근공주분역', '공원', '중신가원저상', '자오위안 공원', '위성 빌딩'],\n",
       "      dtype=object)"
      ]
     },
     "execution_count": 57,
     "metadata": {},
     "output_type": "execute_result"
    }
   ],
   "source": [
    "df['5'].unique()"
   ]
  },
  {
   "cell_type": "code",
   "execution_count": 59,
   "metadata": {},
   "outputs": [],
   "source": [
    "df.to_csv('128_한글패치.csv')"
   ]
  }
 ],
 "metadata": {
  "kernelspec": {
   "display_name": "Python 3",
   "language": "python",
   "name": "python3"
  },
  "language_info": {
   "codemirror_mode": {
    "name": "ipython",
    "version": 3
   },
   "file_extension": ".py",
   "mimetype": "text/x-python",
   "name": "python",
   "nbconvert_exporter": "python",
   "pygments_lexer": "ipython3",
   "version": "3.7.6"
  }
 },
 "nbformat": 4,
 "nbformat_minor": 4
}
