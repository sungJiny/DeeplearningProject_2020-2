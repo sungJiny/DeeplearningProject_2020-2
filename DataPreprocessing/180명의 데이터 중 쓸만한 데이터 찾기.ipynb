{
 "cells": [
  {
   "cell_type": "markdown",
   "metadata": {},
   "source": [
    "## 표본 선정 기준<br>\n",
    "1. 수집 일 수가 많을 것 <br>\n",
    "2. 일정하게 데이터가 존재할 것 <br>\n",
    "\n",
    "결과적으로 총 6명을 학습 할 예정이다. <br>"
   ]
  },
  {
   "cell_type": "code",
   "execution_count": null,
   "metadata": {},
   "outputs": [],
   "source": [
    "import os\n",
    "list_ = []\n",
    "for i in range(0,100):\n",
    "    if i < 100:\n",
    "        if len(os.listdir('0'+str(i)+'/Trajectory')) > 500:\n",
    "            list_.append(i)\n",
    "    else:\n",
    "        if len(os.listdir(str(i)+'/Trajectory')) > 500:\n",
    "            list_.append(i)\n",
    "            \n",
    "# 다음과 같은 과정을 거쳐서 128,153,163,117, 25,41 6명의 표본을 만들어 냄"
   ]
  }
 ],
 "metadata": {
  "kernelspec": {
   "display_name": "Python 3",
   "language": "python",
   "name": "python3"
  },
  "language_info": {
   "codemirror_mode": {
    "name": "ipython",
    "version": 3
   },
   "file_extension": ".py",
   "mimetype": "text/x-python",
   "name": "python",
   "nbconvert_exporter": "python",
   "pygments_lexer": "ipython3",
   "version": "3.7.6"
  }
 },
 "nbformat": 4,
 "nbformat_minor": 4
}
